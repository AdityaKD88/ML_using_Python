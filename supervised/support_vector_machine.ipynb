{
 "cells": [
  {
   "cell_type": "code",
   "execution_count": 1,
   "metadata": {},
   "outputs": [],
   "source": [
    "import pandas as pd\n",
    "import numpy as np\n",
    "from sklearn.svm import SVC\n",
    "from sklearn.model_selection import train_test_split\n",
    "import matplotlib.pyplot as plt\n",
    "import plotly.express as px\n",
    "from sklearn.feature_selection import SelectKBest\n",
    "from sklearn.feature_selection import chi2\n",
    "from sklearn.preprocessing import StandardScaler\n",
    "from sklearn.metrics import classification_report\n",
    "from sklearn.metrics import confusion_matrix"
   ]
  },
  {
   "cell_type": "code",
   "execution_count": 20,
   "metadata": {},
   "outputs": [],
   "source": [
    "from sklearn.naive_bayes import GaussianNB"
   ]
  },
  {
   "cell_type": "code",
   "execution_count": 2,
   "metadata": {},
   "outputs": [
    {
     "data": {
      "text/html": [
       "<div>\n",
       "<style scoped>\n",
       "    .dataframe tbody tr th:only-of-type {\n",
       "        vertical-align: middle;\n",
       "    }\n",
       "\n",
       "    .dataframe tbody tr th {\n",
       "        vertical-align: top;\n",
       "    }\n",
       "\n",
       "    .dataframe thead th {\n",
       "        text-align: right;\n",
       "    }\n",
       "</style>\n",
       "<table border=\"1\" class=\"dataframe\">\n",
       "  <thead>\n",
       "    <tr style=\"text-align: right;\">\n",
       "      <th></th>\n",
       "      <th>age</th>\n",
       "      <th>sex</th>\n",
       "      <th>cp</th>\n",
       "      <th>trestbps</th>\n",
       "      <th>chol</th>\n",
       "      <th>fbs</th>\n",
       "      <th>restecg</th>\n",
       "      <th>thalach</th>\n",
       "      <th>exang</th>\n",
       "      <th>oldpeak</th>\n",
       "      <th>slope</th>\n",
       "      <th>ca</th>\n",
       "      <th>thal</th>\n",
       "      <th>target</th>\n",
       "    </tr>\n",
       "  </thead>\n",
       "  <tbody>\n",
       "    <tr>\n",
       "      <th>0</th>\n",
       "      <td>63</td>\n",
       "      <td>1</td>\n",
       "      <td>3</td>\n",
       "      <td>145</td>\n",
       "      <td>233</td>\n",
       "      <td>1</td>\n",
       "      <td>0</td>\n",
       "      <td>150</td>\n",
       "      <td>0</td>\n",
       "      <td>2.3</td>\n",
       "      <td>0</td>\n",
       "      <td>0</td>\n",
       "      <td>1</td>\n",
       "      <td>1</td>\n",
       "    </tr>\n",
       "    <tr>\n",
       "      <th>1</th>\n",
       "      <td>37</td>\n",
       "      <td>1</td>\n",
       "      <td>2</td>\n",
       "      <td>130</td>\n",
       "      <td>250</td>\n",
       "      <td>0</td>\n",
       "      <td>1</td>\n",
       "      <td>187</td>\n",
       "      <td>0</td>\n",
       "      <td>3.5</td>\n",
       "      <td>0</td>\n",
       "      <td>0</td>\n",
       "      <td>2</td>\n",
       "      <td>1</td>\n",
       "    </tr>\n",
       "    <tr>\n",
       "      <th>2</th>\n",
       "      <td>41</td>\n",
       "      <td>0</td>\n",
       "      <td>1</td>\n",
       "      <td>130</td>\n",
       "      <td>204</td>\n",
       "      <td>0</td>\n",
       "      <td>0</td>\n",
       "      <td>172</td>\n",
       "      <td>0</td>\n",
       "      <td>1.4</td>\n",
       "      <td>2</td>\n",
       "      <td>0</td>\n",
       "      <td>2</td>\n",
       "      <td>1</td>\n",
       "    </tr>\n",
       "    <tr>\n",
       "      <th>3</th>\n",
       "      <td>56</td>\n",
       "      <td>1</td>\n",
       "      <td>1</td>\n",
       "      <td>120</td>\n",
       "      <td>236</td>\n",
       "      <td>0</td>\n",
       "      <td>1</td>\n",
       "      <td>178</td>\n",
       "      <td>0</td>\n",
       "      <td>0.8</td>\n",
       "      <td>2</td>\n",
       "      <td>0</td>\n",
       "      <td>2</td>\n",
       "      <td>1</td>\n",
       "    </tr>\n",
       "    <tr>\n",
       "      <th>4</th>\n",
       "      <td>57</td>\n",
       "      <td>0</td>\n",
       "      <td>0</td>\n",
       "      <td>120</td>\n",
       "      <td>354</td>\n",
       "      <td>0</td>\n",
       "      <td>1</td>\n",
       "      <td>163</td>\n",
       "      <td>1</td>\n",
       "      <td>0.6</td>\n",
       "      <td>2</td>\n",
       "      <td>0</td>\n",
       "      <td>2</td>\n",
       "      <td>1</td>\n",
       "    </tr>\n",
       "  </tbody>\n",
       "</table>\n",
       "</div>"
      ],
      "text/plain": [
       "   age  sex  cp  trestbps  chol  fbs  restecg  thalach  exang  oldpeak  slope  \\\n",
       "0   63    1   3       145   233    1        0      150      0      2.3      0   \n",
       "1   37    1   2       130   250    0        1      187      0      3.5      0   \n",
       "2   41    0   1       130   204    0        0      172      0      1.4      2   \n",
       "3   56    1   1       120   236    0        1      178      0      0.8      2   \n",
       "4   57    0   0       120   354    0        1      163      1      0.6      2   \n",
       "\n",
       "   ca  thal  target  \n",
       "0   0     1       1  \n",
       "1   0     2       1  \n",
       "2   0     2       1  \n",
       "3   0     2       1  \n",
       "4   0     2       1  "
      ]
     },
     "execution_count": 2,
     "metadata": {},
     "output_type": "execute_result"
    }
   ],
   "source": [
    "df = pd.read_csv('https://raw.githubusercontent.com/digipodium/Datasets/main/heart.csv')\n",
    "df.head()"
   ]
  },
  {
   "cell_type": "code",
   "execution_count": 3,
   "metadata": {},
   "outputs": [
    {
     "data": {
      "image/png": "[encoded data removed]",
      "text/plain": [
       "<Figure size 432x288 with 1 Axes>"
      ]
     },
     "metadata": {
      "needs_background": "light"
     },
     "output_type": "display_data"
    }
   ],
   "source": [
    "df.target.value_counts().plot(kind='bar')\n",
    "plt.show()"
   ]
  },
  {
   "cell_type": "code",
   "execution_count": 4,
   "metadata": {},
   "outputs": [
    {
     "name": "stdout",
     "output_type": "stream",
     "text": [
      "(303, 13) (303,)\n"
     ]
    }
   ],
   "source": [
    "X=df.iloc[:,:-1]\n",
    "y=df['target']\n",
    "print(X.shape, y.shape)"
   ]
  },
  {
   "cell_type": "code",
   "execution_count": 22,
   "metadata": {},
   "outputs": [
    {
     "name": "stdout",
     "output_type": "stream",
     "text": [
      "[ 23.28662399   7.57683451  62.59809791  14.8239245   23.93639448\n",
      "   0.20293368   2.97827075 188.32047169  38.91437697  72.64425301\n",
      "   9.8040952   66.44076512   5.79185297]\n",
      "['thalach' 'oldpeak']\n"
     ]
    }
   ],
   "source": [
    "featSelector = SelectKBest(chi2,k=2)\n",
    "featSelector.fit(X,y)\n",
    "print(featSelector.scores_)\n",
    "print(featSelector.get_feature_names_out())"
   ]
  },
  {
   "cell_type": "code",
   "execution_count": 23,
   "metadata": {},
   "outputs": [],
   "source": [
    "features = X[featSelector.get_feature_names_out()]\n",
    "features.head()\n",
    "scaler = StandardScaler()\n",
    "scaledX = scaler.fit_transform(features)\n"
   ]
  },
  {
   "cell_type": "code",
   "execution_count": 24,
   "metadata": {},
   "outputs": [],
   "source": [
    "xtrain, xtest, ytrain, ytest = train_test_split(scaledX,y,test_size=.2,random_state=1)"
   ]
  },
  {
   "cell_type": "code",
   "execution_count": 26,
   "metadata": {},
   "outputs": [
    {
     "data": {
      "text/plain": [
       "SVC(kernel='linear')"
      ]
     },
     "execution_count": 26,
     "metadata": {},
     "output_type": "execute_result"
    }
   ],
   "source": [
    "clf = SVC(kernel='linear')\n",
    "clf.fit(xtrain,ytrain)"
   ]
  },
  {
   "cell_type": "code",
   "execution_count": 27,
   "metadata": {},
   "outputs": [
    {
     "name": "stdout",
     "output_type": "stream",
     "text": [
      "[[ 66  42]\n",
      " [ 22 112]]\n",
      "              precision    recall  f1-score   support\n",
      "\n",
      "           0       0.75      0.61      0.67       108\n",
      "           1       0.73      0.84      0.78       134\n",
      "\n",
      "    accuracy                           0.74       242\n",
      "   macro avg       0.74      0.72      0.73       242\n",
      "weighted avg       0.74      0.74      0.73       242\n",
      "\n"
     ]
    }
   ],
   "source": [
    "ypred = clf.predict(xtrain)\n",
    "print(confusion_matrix(ytrain,ypred))\n",
    "print(classification_report(ytrain,ypred))\n"
   ]
  },
  {
   "cell_type": "code",
   "execution_count": 10,
   "metadata": {},
   "outputs": [],
   "source": [
    "from sklearn.decomposition import PCA"
   ]
  },
  {
   "cell_type": "code",
   "execution_count": 11,
   "metadata": {},
   "outputs": [],
   "source": [
    "pca = PCA(n_components=3)\n",
    "decomposed_X = pca.fit_transform(X)"
   ]
  },
  {
   "cell_type": "code",
   "execution_count": 12,
   "metadata": {},
   "outputs": [
    {
     "data": {
      "text/plain": [
       "array([[-1.22673448e+01,  2.87383781e+00,  1.49698788e+01],\n",
       "       [ 2.69013712e+00, -3.98713736e+01,  8.77882303e-01],\n",
       "       [-4.29502141e+01, -2.36368199e+01,  1.75944589e+00],\n",
       "       [-1.09447564e+01, -2.84380358e+01, -7.04418048e+00],\n",
       "       [ 1.06979053e+02, -1.58744678e+01, -1.48615748e+01],\n",
       "       [-5.36472038e+01,  4.00392377e+00,  1.10883877e+01],\n",
       "       [ 4.80821551e+01, -3.03896086e+00,  6.43875851e+00],\n",
       "       [ 1.55660590e+01, -2.62745637e+01, -1.05743709e+01],\n",
       "       [-4.54388962e+01, -7.42977739e+00,  4.33597187e+01],\n",
       "       [-7.73163161e+01, -1.99100759e+01,  2.55062985e+01],\n",
       "       [-6.94323738e+00, -9.17536374e+00,  9.87463009e+00],\n",
       "       [ 2.84259379e+01,  8.47126467e+00, -5.23558004e+00],\n",
       "       [ 1.92477377e+01, -2.24212575e+01, -5.30201247e-01],\n",
       "       [-3.58055558e+01,  5.70343964e+00, -1.89482661e+01],\n",
       "       [ 3.75886896e+01, -1.02579437e+01,  1.82433206e+01],\n",
       "       [-2.79998518e+01, -9.64570379e+00, -9.49412834e+00],\n",
       "       [ 9.29750393e+01, -2.42584272e+01, -1.28568027e+01],\n",
       "       [-1.86307973e+01,  3.92597411e+01,  1.59711707e+01],\n",
       "       [ 1.00245407e+00, -2.10404091e+01,  1.93308904e+01],\n",
       "       [-6.28419048e+00,  2.34469473e+00,  1.06303464e+01],\n",
       "       [-1.19811457e+01, -9.66308502e+00,  5.97108332e+00],\n",
       "       [-1.39453649e+01, -3.05172542e+01,  1.55651113e+00],\n",
       "       [-2.05255102e+01, -2.87200024e+01,  1.13394254e+01],\n",
       "       [-2.03216541e+00,  1.55254511e+01,  1.74236085e+01],\n",
       "       [-4.75528071e+01, -2.85622656e+01,  1.24943422e+01],\n",
       "       [ 5.75441203e+01, -7.18762436e+00,  2.87153992e+01],\n",
       "       [-3.31978406e+01, -3.78773342e+00,  2.13311818e+01],\n",
       "       [-7.20962852e+01,  2.45271249e+01, -2.14783496e+01],\n",
       "       [ 1.71167708e+02, -7.71869434e+00,  1.83476029e+00],\n",
       "       [-4.93191556e+01, -1.76485033e+00,  1.05456044e+00],\n",
       "       [-5.01007485e+01, -2.22229739e+01, -2.30194337e+01],\n",
       "       [-6.91929442e+01,  1.14888587e+01, -7.82143941e+00],\n",
       "       [-2.79824102e+01, -3.90409838e+01,  3.42184119e+00],\n",
       "       [ 2.63348351e+01, -3.58093199e+00, -7.60296265e+00],\n",
       "       [-3.34679777e+01,  2.34124147e+01, -8.39877350e+00],\n",
       "       [-6.90416954e+01, -9.21356282e+00,  1.40112809e+01],\n",
       "       [ 5.76159309e+01, -2.07758786e+01,  2.95229223e+00],\n",
       "       [-1.34903293e+01, -1.29013455e+01,  2.07180333e+01],\n",
       "       [ 2.42327315e+01,  5.49629632e+00,  2.29260054e+01],\n",
       "       [ 1.15272998e+02,  1.31729856e+00,  2.35981926e+01],\n",
       "       [ 6.19386342e+01,  6.51796361e+00,  3.69084254e+00],\n",
       "       [-1.81594733e+00, -3.09857643e+01,  1.57411395e+00],\n",
       "       [-3.98582315e+01, -2.17228532e+00, -2.65656607e+01],\n",
       "       [ 1.76202166e+01,  5.72741745e+00, -3.53831130e+00],\n",
       "       [ 7.41402129e+01, -3.50445822e+01,  6.66150132e+00],\n",
       "       [ 7.77674937e+01, -2.50432446e+01, -1.28522463e+01],\n",
       "       [-1.14803471e+01, -3.05087153e+01,  1.14055407e+01],\n",
       "       [ 1.06766335e+01, -7.14459399e+00,  5.60424943e+00],\n",
       "       [-3.01815530e+01,  3.37656200e+01, -6.66738610e+00],\n",
       "       [-1.20664017e+01, -9.48916506e+00,  8.03161048e+00],\n",
       "       [ 9.50967652e+00, -3.78404916e-01, -2.59790097e+00],\n",
       "       [ 5.55227054e+01, -1.49713282e+00, -1.26320455e+01],\n",
       "       [-1.49814291e+01,  5.10910088e+00, -3.08192123e-01],\n",
       "       [-1.06782254e+02, -2.70995374e+01, -1.58845160e+01],\n",
       "       [ 6.05902948e+00, -2.00797354e+01,  6.98369881e+00],\n",
       "       [-4.52195974e+01, -7.47967373e+00,  5.41163471e+00],\n",
       "       [-2.51948565e+01, -3.72340745e+01, -4.35097343e+00],\n",
       "       [ 1.22870268e+01, -3.82682680e+01, -1.36652204e+01],\n",
       "       [-6.57761067e+01, -2.77342770e+01, -9.53118723e+00],\n",
       "       [ 5.64900647e+01, -1.01515531e+01, -4.92354619e+00],\n",
       "       [ 1.84703454e+01,  1.95824848e+01, -2.26374877e+01],\n",
       "       [ 6.14251568e+01, -9.97976370e+00, -2.56381800e+01],\n",
       "       [-6.11924097e+01, -4.01598131e+01, -5.41165709e+00],\n",
       "       [-4.34222710e+01,  1.59715224e+01,  1.54906821e+00],\n",
       "       [-3.47706781e+01, -1.28336095e+01,  1.24531364e+01],\n",
       "       [-6.38389942e+01, -3.32520799e+01,  1.12131885e+01],\n",
       "       [-2.58092998e+01,  3.06100628e+00, -3.11054493e+01],\n",
       "       [-1.28738102e+01, -2.64263198e+01,  1.11723211e+00],\n",
       "       [-2.73293392e+01, -2.25103104e+01, -8.77518288e+00],\n",
       "       [-3.73524443e+01, -1.17499709e+01, -2.93505169e+00],\n",
       "       [ 1.11623689e+01,  1.05760048e+00, -1.24022157e+01],\n",
       "       [-2.11845499e+01, -8.42731177e+00, -3.58431992e+01],\n",
       "       [-4.36481435e+01, -5.51630465e+01,  4.10720436e+00],\n",
       "       [ 1.47048217e+01, -3.55689655e+01,  1.17227929e+01],\n",
       "       [-3.42225937e+01, -1.74622766e+01, -7.21333534e+00],\n",
       "       [ 3.83167514e+00, -1.07012108e+01,  4.67224168e+00],\n",
       "       [-1.83098204e+00, -1.72502209e+01, -4.73562693e+00],\n",
       "       [-2.47428259e+01, -1.18500592e+01,  1.19285014e+01],\n",
       "       [-4.17066458e+01, -3.36111470e+01,  2.65868139e+00],\n",
       "       [-7.40917802e+00, -6.25033964e+00, -2.48145052e+01],\n",
       "       [ 2.04540880e+00, -3.32773445e+01, -1.73693662e+01],\n",
       "       [ 6.09210678e+01, -2.32058497e+01, -5.26484070e+00],\n",
       "       [ 7.03299724e+01, -1.35989064e+01, -3.07106892e+01],\n",
       "       [ 5.22983771e+01, -2.70536413e+01,  2.07562811e+01],\n",
       "       [ 1.70065236e+01,  2.13218186e+01, -3.51791195e+01],\n",
       "       [ 3.16749447e+02, -1.57198272e+01, -2.95584908e+01],\n",
       "       [ 3.05538405e+01, -8.67999797e-01, -1.30557155e+01],\n",
       "       [-5.10054999e+01, -9.98785187e+00, -2.78176498e+01],\n",
       "       [-3.33081544e+01, -9.85793365e+00, -1.85605658e+01],\n",
       "       [ 5.76351497e-01,  2.43665814e+01, -3.42672118e+01],\n",
       "       [ 7.91544528e+00, -2.69240089e+01, -5.46146371e+00],\n",
       "       [-3.92019129e+01, -1.66665821e+01,  5.04213195e+00],\n",
       "       [-2.31512130e+01, -1.82374297e+01,  9.65129325e+00],\n",
       "       [ 4.15904451e+01, -9.99602712e+00, -5.98177713e-01],\n",
       "       [-8.73164287e+01,  9.28658061e+00, -1.75782851e+01],\n",
       "       [-1.94998842e+01,  3.89746683e+01,  6.05038708e+00],\n",
       "       [ 1.48096221e+02, -7.78636031e+00,  2.61393364e+00],\n",
       "       [-1.44333997e+01, -2.80021354e-02, -2.31727891e+01],\n",
       "       [ 6.79834667e+01, -1.56506133e+01, -4.91359783e+00],\n",
       "       [-5.66463322e-01, -2.32497020e+01,  1.26656632e+00],\n",
       "       [-2.17890621e+00, -2.82410256e+01,  1.83190501e+01],\n",
       "       [ 2.61147551e+01,  9.77685047e+00,  4.43726866e+01],\n",
       "       [-5.06406558e+01, -2.52622187e+01,  1.56963833e+01],\n",
       "       [-7.62277163e+00, -4.66899999e+01, -6.92624035e+00],\n",
       "       [-5.05675871e+01, -1.31889197e+01,  1.14278318e+00],\n",
       "       [-3.49561481e+01,  3.58075821e+01, -1.23701557e+01],\n",
       "       [-1.01792704e+01,  2.40340759e+01,  2.79394599e+01],\n",
       "       [-1.03261196e+01, -3.14643025e+00,  5.89855014e+00],\n",
       "       [-3.07718098e+00, -1.40469425e+01, -1.02631150e+01],\n",
       "       [ 6.45117302e+00, -1.23537176e+01, -2.09949105e+01],\n",
       "       [ 8.12324477e+01,  9.76701581e-01,  4.52628568e+01],\n",
       "       [-1.19226291e+02, -1.81289862e+01,  2.75098712e+01],\n",
       "       [ 6.75045538e+01,  1.75519177e+01,  3.89007922e+00],\n",
       "       [-3.67582158e+01, -1.47459364e+01, -1.94309661e+01],\n",
       "       [ 1.56092274e+01, -5.62618095e+00, -1.64205881e+00],\n",
       "       [-3.25955878e+01, -2.37018244e+01, -9.39216470e+00],\n",
       "       [-3.29426698e+01, -1.99128716e+01,  7.48022994e-01],\n",
       "       [-5.37420903e+01, -1.19588611e+01, -6.89112254e+00],\n",
       "       [-4.39460245e+01, -2.53474586e+01, -2.21855909e+01],\n",
       "       [-3.30055147e+00, -3.10380777e+00,  5.66615898e+00],\n",
       "       [ 5.71364038e+01,  2.75425777e+01, -6.82850204e+00],\n",
       "       [ 2.49346693e+01, -3.06121389e+01,  9.73795255e+00],\n",
       "       [ 2.00658433e+01, -2.67787170e+01, -1.91836675e+01],\n",
       "       [ 1.94265927e+01, -1.99277142e+01, -2.20749538e+01],\n",
       "       [-4.97890334e+01, -3.45204118e+01, -3.27062141e+01],\n",
       "       [-3.79588300e+01, -4.58319341e+01, -8.64225150e+00],\n",
       "       [-4.33601665e+01,  3.91500695e+00, -1.89293026e+01],\n",
       "       [ 3.19771185e+01, -1.80629396e+01,  2.29143145e+01],\n",
       "       [-5.01961305e+01, -1.79483810e+01,  9.05029407e+00],\n",
       "       [ 2.31253663e+01,  2.99073603e+01, -1.38100001e+01],\n",
       "       [-4.39409955e+01, -9.32987328e+00,  3.18463613e+01],\n",
       "       [ 2.44956667e+01, -1.33095733e+01,  1.98209151e+00],\n",
       "       [ 4.75046019e+01, -1.65140532e+01, -1.38724563e+01],\n",
       "       [-1.28277115e+01, -7.77413385e+00, -2.19291921e+01],\n",
       "       [ 5.87236797e+01, -1.72650379e+01, -8.53381358e+00],\n",
       "       [ 2.23032866e+01, -1.46610375e+01, -1.72483055e+00],\n",
       "       [-6.80713170e+01,  5.35196315e+01, -1.41604216e+01],\n",
       "       [-3.79925537e+01,  1.11499559e+01, -1.90890153e+00],\n",
       "       [-4.59283877e+01,  2.22402367e+01, -2.16640028e+01],\n",
       "       [ 1.72403581e+01,  4.46927047e+01, -8.97087126e+00],\n",
       "       [ 4.78991398e+01, -9.98980124e+00, -1.33720763e+01],\n",
       "       [ 5.51539727e+01, -3.55284098e+01, -1.66084683e+01],\n",
       "       [-3.84085771e+01, -2.55954822e+01, -8.07037171e+00],\n",
       "       [-2.38811176e+01,  7.56699767e+00, -2.33969272e+01],\n",
       "       [-4.76724389e+01,  3.86264546e+01,  9.11137167e+00],\n",
       "       [ 5.61381220e-01,  1.18633697e+01,  2.51000408e+01],\n",
       "       [-5.31060481e+00, -2.61173133e+00, -1.45497183e+01],\n",
       "       [-5.31670653e+00, -1.78564510e+01,  2.18345524e+01],\n",
       "       [-2.13351983e+01, -2.16622139e+01, -9.20313413e+00],\n",
       "       [-6.67088816e+01, -1.52834204e+00,  2.58819362e-01],\n",
       "       [-1.63328111e+01,  1.68172492e+01,  2.87610161e+01],\n",
       "       [-9.71697018e+01,  2.69818025e+01, -1.54231060e+01],\n",
       "       [-1.70634064e+01,  8.45677177e-01,  4.05829571e+01],\n",
       "       [ 3.27990023e+01,  6.67997033e-01,  1.42707670e+01],\n",
       "       [-2.65372631e+01, -3.96616859e+00,  5.96715933e+00],\n",
       "       [-4.89650336e+01,  1.96684831e+01, -1.05082927e+00],\n",
       "       [ 6.13292063e+00, -3.03739217e+01,  9.12073781e-01],\n",
       "       [-5.55642386e+01, -2.73072199e+01, -6.00025357e+00],\n",
       "       [-2.63399402e+01,  6.02689407e+00, -5.43480777e+00],\n",
       "       [-2.53276285e+01, -1.24612830e+01,  1.60423573e+00],\n",
       "       [-6.88718174e+00, -1.97145339e+01, -8.41074118e+00],\n",
       "       [ 9.54711027e+01, -1.77009114e+01, -2.31637245e+00],\n",
       "       [-9.04133799e+01, -3.35593558e+01, -4.40010632e+00],\n",
       "       [-7.16396597e+01, -2.37643886e+01,  1.08514369e+01],\n",
       "       [-7.16396597e+01, -2.37643886e+01,  1.08514369e+01],\n",
       "       [ 4.18197447e+01,  4.52249925e+01,  2.20772959e+01],\n",
       "       [-1.71261639e+01,  2.16710711e+01, -1.15999333e+01],\n",
       "       [ 2.23256592e+01, -8.19666164e+00,  9.44247964e+00],\n",
       "       [ 8.00705846e+00,  3.86621159e+00, -1.24534737e+00],\n",
       "       [-4.28696156e+01, -3.70555560e+00,  1.09653004e+01],\n",
       "       [ 9.75797442e+00,  7.40139126e+00, -2.86408437e+00],\n",
       "       [-1.86474671e+01, -2.09987262e+01, -1.87965428e+01],\n",
       "       [ 3.71761566e+01, -1.13870966e+01, -1.15411212e+01],\n",
       "       [-2.22273002e+01, -2.16543675e+01,  5.00051164e+00],\n",
       "       [-3.99040777e+01,  1.89454898e+01, -1.10086248e+00],\n",
       "       [-8.04401561e+01,  3.15451480e+01, -2.36055455e+01],\n",
       "       [-1.67783444e+01, -1.02606413e+01, -1.14918621e+01],\n",
       "       [ 8.92745356e+01, -7.31054466e+00,  5.99008115e+00],\n",
       "       [-6.99088445e+01,  2.70813929e+01, -1.31367342e+01],\n",
       "       [ 3.09339720e+01,  3.86115665e+01,  1.20059135e+01],\n",
       "       [ 1.06703009e+02,  1.53538497e+01, -7.25891086e+00],\n",
       "       [-1.96587903e+01,  3.91295966e+01,  1.58775149e+01],\n",
       "       [ 8.36154725e+01, -1.95216645e+01, -2.54525522e+00],\n",
       "       [-1.71341735e+01, -1.60418481e+01, -1.59899917e+01],\n",
       "       [-2.39282344e+00,  2.23656761e+01,  1.48854274e+01],\n",
       "       [ 4.22833359e+01, -8.06448136e+00, -2.23849382e+01],\n",
       "       [ 6.91167603e+00,  6.26656360e+00, -1.96281565e+00],\n",
       "       [ 1.96243332e+01,  3.85256546e+01, -1.37707837e+01],\n",
       "       [-1.31125991e+01, -1.27318441e+01,  1.00790920e+01],\n",
       "       [-7.57375885e+01, -1.14199614e+01, -1.80823197e+01],\n",
       "       [ 5.84701625e+01,  5.56709620e+00, -5.99785052e+00],\n",
       "       [-3.00890831e+01,  1.91629567e+01, -3.95164725e+00],\n",
       "       [-5.84468565e+01,  3.56937128e+01, -1.32267948e+01],\n",
       "       [ 3.65887410e+01,  9.26162026e+00,  1.10605348e+01],\n",
       "       [-6.05635842e+01, -2.12850782e+00,  1.27636485e+01],\n",
       "       [ 8.16660054e+01,  1.27753312e+01,  3.29955170e+01],\n",
       "       [-1.46715956e+01,  3.29250462e+00,  1.74609938e+01],\n",
       "       [ 7.80766434e+00, -1.15712761e+01, -3.59780559e+00],\n",
       "       [ 2.08206903e+01,  4.93221000e+01, -1.80381805e+01],\n",
       "       [ 1.06289695e+00, -8.49799938e+00, -1.89244347e+01],\n",
       "       [-5.08073967e+01, -2.99181026e+01, -1.65248484e+01],\n",
       "       [ 1.16895915e+01,  8.61870113e+00, -7.49739605e+00],\n",
       "       [ 2.49935343e+01,  3.98757284e+01,  1.23054589e+01],\n",
       "       [ 3.05192299e+01,  6.62398075e+00,  4.78791718e+01],\n",
       "       [-8.04036376e+01,  1.06169304e+01,  3.24734543e+01],\n",
       "       [ 8.36996320e+00, -1.20747257e+01, -2.85429697e+00],\n",
       "       [-8.03618926e+00,  6.24254701e+00, -2.12764586e+01],\n",
       "       [ 1.27639122e+01, -4.42289158e+00,  1.91258207e+01],\n",
       "       [-5.88348209e+01,  9.38176887e+00, -1.04759917e+01],\n",
       "       [-6.86382666e+01, -9.01573342e+00,  1.39079491e+01],\n",
       "       [-1.73026958e+01,  7.65098966e-02, -2.30142384e+00],\n",
       "       [ 1.34940887e+01,  9.23332642e+00, -1.25092752e+01],\n",
       "       [-2.83947076e+01,  5.75332197e+00, -1.51757670e+01],\n",
       "       [ 6.15465542e+01,  4.99611728e+00,  1.04062104e+01],\n",
       "       [ 2.52399874e+00,  5.10237950e+00, -7.16714986e+00],\n",
       "       [ 9.42277808e+01,  9.51501402e+00, -7.61905968e+00],\n",
       "       [ 1.73148859e+01,  5.23379788e+01, -8.26609883e+00],\n",
       "       [ 8.39735990e+01,  1.70727173e+01, -7.03154346e+00],\n",
       "       [ 8.47295049e+00,  2.43185301e+01,  1.35143136e+00],\n",
       "       [ 9.38942689e+00, -1.85442370e+00, -2.85023970e+00],\n",
       "       [ 1.61617639e+02, -3.80387787e+00,  1.15538088e+01],\n",
       "       [-2.84925228e+01,  3.94263668e+01,  4.84811802e+00],\n",
       "       [ 3.62078237e+01, -2.19066958e+01,  8.94161529e+00],\n",
       "       [ 4.51063806e+01,  2.29522013e+01,  6.31363752e+01],\n",
       "       [-8.11518539e+00,  2.09941418e+01, -2.39547666e+01],\n",
       "       [-7.06859638e+01,  2.97790223e+01,  1.56065867e+01],\n",
       "       [ 3.47613868e+01,  4.51052191e+01, -1.82335643e+01],\n",
       "       [-4.93417477e+01,  1.54267378e+01, -1.39306743e+01],\n",
       "       [ 4.35905728e+01, -5.16611667e+00,  3.73647025e+01],\n",
       "       [ 6.28143128e+01,  1.80743197e+01, -1.08825336e+01],\n",
       "       [-4.69587349e+00, -6.07939007e+00, -2.36703999e+01],\n",
       "       [ 4.45395018e+01,  2.82154176e+01,  2.76441643e+01],\n",
       "       [ 4.40654268e+01,  6.79430599e+00,  2.51752806e+01],\n",
       "       [-3.78967813e-02,  5.30320698e+01, -1.71025069e+01],\n",
       "       [ 7.64336112e+01,  4.09893565e+01, -8.70841432e+00],\n",
       "       [ 5.27282629e+01, -2.35735673e+01,  8.12714482e+00],\n",
       "       [ 5.33051683e+01, -2.19352932e+01, -6.04081903e+00],\n",
       "       [ 4.71205929e+01, -1.88686496e+01,  9.18484792e+00],\n",
       "       [ 5.81142852e+01, -9.74168891e+00, -5.01706898e+00],\n",
       "       [ 3.45882633e+01, -1.10269523e+01, -8.97190147e+00],\n",
       "       [ 2.49372705e+01,  4.21742263e+01,  2.38495548e+01],\n",
       "       [ 4.97860630e+00,  1.16787225e+01,  4.11914995e+01],\n",
       "       [-3.30476202e+01,  2.10949255e+01,  1.38240474e+01],\n",
       "       [ 2.92112525e+01,  6.23253185e+01,  1.09832273e+01],\n",
       "       [-6.17294730e+01,  4.52151416e+01, -2.00970175e+00],\n",
       "       [ 2.69482051e+01, -1.84707904e+01, -7.60177817e+00],\n",
       "       [ 1.62601914e+02, -2.91047352e+00, -5.68218375e+00],\n",
       "       [ 1.76358515e+00,  3.40502950e+01,  2.55219080e+01],\n",
       "       [ 3.91892127e+01, -3.88537256e+01,  6.32306834e+01],\n",
       "       [ 8.72772333e+00,  6.98051819e+00,  9.22778596e+00],\n",
       "       [ 5.21134479e+01,  2.63698957e+01,  1.64163158e+00],\n",
       "       [ 3.59494997e-01,  4.48985394e+00, -1.94628945e+00],\n",
       "       [ 4.85748918e+01,  4.38273118e+01, -8.19380726e-01],\n",
       "       [ 5.18117950e+01,  2.21107783e+01, -3.53386120e+01],\n",
       "       [ 2.83925296e+01,  2.72949756e+01,  2.39160444e+01],\n",
       "       [ 6.27624509e+01,  7.66849769e-01,  5.48080765e+00],\n",
       "       [ 1.28341626e+01,  1.93091097e+01, -6.26458283e+00],\n",
       "       [-4.55815556e+01,  2.45095216e+01,  1.09053977e+01],\n",
       "       [-1.11447079e+00, -8.92995396e-01,  1.96787511e+01],\n",
       "       [-1.66719275e+01, -3.54797126e+01, -8.48977950e+00],\n",
       "       [-1.56702530e+01, -7.67974909e+00,  4.99261700e+01],\n",
       "       [-1.73372333e+01, -1.22830106e+01, -1.74292424e+01],\n",
       "       [ 3.56088032e+01,  5.16148213e+01, -1.74977225e+01],\n",
       "       [ 2.17707152e+01, -2.01868964e+01, -2.07770695e+01],\n",
       "       [-4.09218463e+01,  3.91729465e+01, -2.46212073e+01],\n",
       "       [-3.45413851e+01,  1.79890833e+01, -1.83629366e+01],\n",
       "       [ 8.31487334e+01,  3.55243895e+01,  3.92922404e+01],\n",
       "       [-9.77597417e+01,  2.26018372e+01, -1.21447291e+01],\n",
       "       [ 3.94403295e+01,  3.11146680e+01, -1.58379579e+01],\n",
       "       [ 3.69977907e+01,  4.50358095e+01, -9.26812130e+00],\n",
       "       [ 1.88978181e+00,  2.72833600e+00, -1.33461930e+01],\n",
       "       [-1.18321429e+01,  6.25017709e+00,  3.22201492e+00],\n",
       "       [-8.72338097e+00,  7.81323620e+01, -1.95115990e+01],\n",
       "       [-1.36485616e+01, -8.60017159e+00, -2.91805744e+01],\n",
       "       [ 2.75953485e+01,  2.68033627e+01, -2.77109331e+01],\n",
       "       [-3.47384347e+01, -1.83706974e+01, -2.69802490e+00],\n",
       "       [-2.70504587e+01,  4.63670420e+01,  1.02626321e+01],\n",
       "       [ 1.45091664e+01,  7.82337627e+00, -9.03483592e+00],\n",
       "       [ 7.29306386e+01, -2.61133576e+00,  1.35789053e+00],\n",
       "       [-7.93555887e+01,  2.75843094e+01,  8.02061624e+00],\n",
       "       [ 6.85028170e+01,  2.09746145e+01, -3.93208775e+00],\n",
       "       [-4.24974303e+01, -6.18715836e+00, -8.97493821e-01],\n",
       "       [-2.81812083e+01,  1.61083297e+01, -5.50316880e+00],\n",
       "       [-2.30484284e+01, -3.07093537e+01,  2.34163422e+01],\n",
       "       [-3.84370655e+01,  1.42537105e+01,  9.55900799e+00],\n",
       "       [ 6.49008923e+01,  2.71076488e+01,  6.87019775e-02],\n",
       "       [-4.19802499e+01, -1.01863752e+01,  6.66980251e+00],\n",
       "       [-1.31745404e+01, -1.09710037e+01,  2.48768079e+01],\n",
       "       [ 8.76914867e+01,  3.06726803e+00, -2.62676807e+01],\n",
       "       [-4.11832177e+01,  1.97802575e+01, -3.91216727e+00],\n",
       "       [-4.22225275e+01, -7.35629223e+00,  2.05658026e+01],\n",
       "       [ 7.09768185e+01,  6.96831601e+00, -2.17166604e+01],\n",
       "       [-1.92194152e+01,  8.68545637e+00,  3.87837663e+01],\n",
       "       [-3.27338125e+01,  4.71710647e+00,  2.33924870e+01],\n",
       "       [-7.80338286e+01,  3.97586774e+00, -9.51016391e+00],\n",
       "       [-5.83590987e+01,  9.19123625e+00,  1.16244162e+01],\n",
       "       [-4.90902148e+01,  1.50673932e+01, -5.67790015e+00],\n",
       "       [-6.79628322e+01,  6.38801449e+01,  2.82704928e+01],\n",
       "       [-4.55412086e+00,  2.74901690e+01,  5.37449272e+00],\n",
       "       [ 1.64280078e+01,  1.29217160e+01, -2.55827943e+01],\n",
       "       [-5.19638115e+01,  1.33237984e+01,  1.54868436e+01],\n",
       "       [-1.14755981e+02,  3.64351842e+01,  1.27770952e-01],\n",
       "       [-1.03961420e+01, -2.33024008e+01,  2.39130354e+00]])"
      ]
     },
     "execution_count": 12,
     "metadata": {},
     "output_type": "execute_result"
    }
   ],
   "source": [
    "decomposed_X"
   ]
  },
  {
   "cell_type": "code",
   "execution_count": 13,
   "metadata": {},
   "outputs": [
    {
     "data": {
      "application/vnd.plotly.v1+json": {
       "config": {
        "plotlyServerURL": "https://plot.ly"
       },
       "data": [
        {
         "hovertemplate": "x=%{x}<br>y=%{y}<br>z=%{z}<br>color=%{marker.color}<extra></extra>",
         "legendgroup": "",
         "marker": {
          "color": [
           1,
           1,
           1,
           1,
           1,
           1,
           1,
           1,
           1,
           1,
           1,
           1,
           1,
           1,
           1,
           1,
           1,
           1,
           1,
           1,
           1,
           1,
           1,
           1,
           1,
           1,
           1,
           1,
           1,
           1,
           1,
           1,
           1,
           1,
           1,
           1,
           1,
           1,
           1,
           1,
           1,
           1,
           1,
           1,
           1,
           1,
           1,
           1,
           1,
           1,
           1,
           1,
           1,
           1,
           1,
           1,
           1,
           1,
           1,
           1,
           1,
           1,
           1,
           1,
           1,
           1,
           1,
           1,
           1,
           1,
           1,
           1,
           1,
           1,
           1,
           1,
           1,
           1,
           1,
           1,
           1,
           1,
           1,
           1,
           1,
           1,
           1,
           1,
           1,
           1,
           1,
           1,
           1,
           1,
           1,
           1,
           1,
           1,
           1,
           1,
           1,
           1,
           1,
           1,
           1,
           1,
           1,
           1,
           1,
           1,
           1,
           1,
           1,
           1,
           1,
           1,
           1,
           1,
           1,
           1,
           1,
           1,
           1,
           1,
           1,
           1,
           1,
           1,
           1,
           1,
           1,
           1,
           1,
           1,
           1,
           1,
           1,
           1,
           1,
           1,
           1,
           1,
           1,
           1,
           1,
           1,
           1,
           1,
           1,
           1,
           1,
           1,
           1,
           1,
           1,
           1,
           1,
           1,
           1,
           1,
           1,
           1,
           1,
           1,
           1,
           0,
           0,
           0,
           0,
           0,
           0,
           0,
           0,
           0,
           0,
           0,
           0,
           0,
           0,
           0,
           0,
           0,
           0,
           0,
           0,
           0,
           0,
           0,
           0,
           0,
           0,
           0,
           0,
           0,
           0,
           0,
           0,
           0,
           0,
           0,
           0,
           0,
           0,
           0,
           0,
           0,
           0,
           0,
           0,
           0,
           0,
           0,
           0,
           0,
           0,
           0,
           0,
           0,
           0,
           0,
           0,
           0,
           0,
           0,
           0,
           0,
           0,
           0,
           0,
           0,
           0,
           0,
           0,
           0,
           0,
           0,
           0,
           0,
           0,
           0,
           0,
           0,
           0,
           0,
           0,
           0,
           0,
           0,
           0,
           0,
           0,
           0,
           0,
           0,
           0,
           0,
           0,
           0,
           0,
           0,
           0,
           0,
           0,
           0,
           0,
           0,
           0,
           0,
           0,
           0,
           0,
           0,
           0,
           0,
           0,
           0,
           0,
           0,
           0,
           0,
           0,
           0,
           0,
           0,
           0,
           0,
           0,
           0,
           0,
           0,
           0,
           0,
           0,
           0,
           0,
           0,
           0,
           0,
           0,
           0,
           0,
           0,
           0
          ],
          "coloraxis": "coloraxis",
          "symbol": "circle"
         },
         "mode": "markers",
         "name": "",
         "scene": "scene",
         "showlegend": false,
         "type": "scatter3d",
         "x": [
          -12.267344839012864,
          2.690137120037202,
          -42.95021407128255,
          -10.944756360314859,
          106.97905332961349,
          -53.647203840605954,
          48.082155119982005,
          15.566059003405613,
          -45.43889615184311,
          -77.31631611768287,
          -6.9432373760655635,
          28.425937948748803,
          19.2477376901425,
          -35.80555581786592,
          37.58868963321278,
          -27.999851772420445,
          92.97503931669262,
          -18.630797343318203,
          1.0024540698110436,
          -6.284190479586015,
          -11.981145709417374,
          -13.945364949439838,
          -20.525510187481583,
          -2.0321654146300347,
          -47.55280709538618,
          57.5441203205501,
          -33.197840570118785,
          -72.0962851694717,
          171.16770752836885,
          -49.31915559219143,
          -50.1007485448066,
          -69.19294418423284,
          -27.982410173459154,
          26.334835120686044,
          -33.467977720676735,
          -69.04169542570715,
          57.615930855852895,
          -13.490329348354003,
          24.23273154508095,
          115.2729979538104,
          61.93863423174613,
          -1.8159473326297582,
          -39.85823150997315,
          17.62021663557317,
          74.14021293084478,
          77.76749371300586,
          -11.480347063859226,
          10.676633503499039,
          -30.181553032956565,
          -12.066401695557895,
          9.509676521304389,
          55.52270540882237,
          -14.981429125557495,
          -106.78225376324413,
          6.059029484378308,
          -45.219597419464264,
          -25.194856485514595,
          12.287026803211752,
          -65.77610669730444,
          56.490064728618584,
          18.470345445050405,
          61.42515683280937,
          -61.19240967289912,
          -43.42227102087073,
          -34.770678102214,
          -63.83899423212466,
          -25.809299769972185,
          -12.873810163383522,
          -27.329339184687637,
          -37.352444261954375,
          11.162368863880323,
          -21.184549914914438,
          -43.64814352643226,
          14.70482166624583,
          -34.2225936617253,
          3.8316751379872764,
          -1.8309820381930313,
          -24.742825942866315,
          -41.70664584744034,
          -7.4091780153460505,
          2.045408800710559,
          60.921067845484004,
          70.32997235448191,
          52.298377124585485,
          17.00652359448577,
          316.7494474037538,
          30.55384049841228,
          -51.005499934002245,
          -33.30815441749066,
          0.5763514972715977,
          7.915445279796564,
          -39.201912909113055,
          -23.151212952504356,
          41.59044511307293,
          -87.31642868264481,
          -19.499884203157603,
          148.09622080522354,
          -14.433399746458589,
          67.98346669098831,
          -0.5664633222038391,
          -2.1789062142689866,
          26.114755086453176,
          -50.64065575275916,
          -7.622771626766334,
          -50.56758713739014,
          -34.95614810908288,
          -10.179270402886369,
          -10.32611959446348,
          -3.077180975648781,
          6.451173015699895,
          81.23244767321793,
          -119.22629118692355,
          67.50455375077095,
          -36.75821581597558,
          15.60922742246203,
          -32.59558781339717,
          -32.94266975623235,
          -53.74209034380971,
          -43.946024508632384,
          -3.3005514704092156,
          57.136403826701816,
          24.934669345584645,
          20.065843258399024,
          19.426592657113062,
          -49.78903336022939,
          -37.9588300036323,
          -43.36016650424887,
          31.97711854360019,
          -50.19613049487218,
          23.125366297460104,
          -43.94099553616354,
          24.495666650379533,
          47.504601853454886,
          -12.827711537996983,
          58.723679678419295,
          22.303286602845983,
          -68.0713170356706,
          -37.99255365277705,
          -45.928387689942106,
          17.240358143409374,
          47.899139805975906,
          55.15397267647584,
          -38.40857707198653,
          -23.881117551075818,
          -47.67243890663852,
          0.5613812195002971,
          -5.310604806748604,
          -5.316706533959193,
          -21.335198272429288,
          -66.7088816073995,
          -16.332811139984074,
          -97.16970178113588,
          -17.06340642812623,
          32.79900230344974,
          -26.537263062739132,
          -48.96503363263225,
          6.1329206333434865,
          -55.564238562554195,
          -26.339940242670178,
          -25.3276285234592,
          -6.887181742839246,
          95.4711026808487,
          -90.41337994043194,
          -71.63965972896861,
          -71.63965972896861,
          41.81974473008443,
          -17.12616392261672,
          22.325659171910814,
          8.007058461954742,
          -42.86961557824849,
          9.757974421092785,
          -18.647467096326924,
          37.17615661110054,
          -22.227300158856732,
          -39.90407767943782,
          -80.4401560974636,
          -16.77834435511379,
          89.27453556036316,
          -69.90884454242926,
          30.93397195989311,
          106.70300945860669,
          -19.658790250382207,
          83.61547245211445,
          -17.134173500037836,
          -2.392823442457053,
          42.283335867164446,
          6.911676028619123,
          19.624333200315945,
          -13.11259907866939,
          -75.7375885249047,
          58.47016249944572,
          -30.089083086764795,
          -58.446856508415664,
          36.58874104948001,
          -60.56358417594279,
          81.6660053540655,
          -14.671595571492494,
          7.807664338216512,
          20.82069030642436,
          1.0628969462056974,
          -50.80739672808643,
          11.689591486776324,
          24.993534321320393,
          30.51922988485964,
          -80.40363757239044,
          8.369963202296834,
          -8.036189264669565,
          12.763912231669899,
          -58.83482091460292,
          -68.63826658340882,
          -17.302695829257495,
          13.494088675949365,
          -28.394707633433395,
          61.54655424694719,
          2.5239987437713234,
          94.2277807749642,
          17.314885941640078,
          83.97359899695277,
          8.47295049265315,
          9.389426889681895,
          161.61763949130471,
          -28.492522761850378,
          36.207823665387615,
          45.1063805953784,
          -8.115185393901312,
          -70.68596377407326,
          34.76138684037324,
          -49.34174767622112,
          43.59057277422773,
          62.814312817932354,
          -4.695873486730432,
          44.53950177892314,
          44.06542684847304,
          -0.03789678132609184,
          76.43361119683497,
          52.72826290424528,
          53.30516832954378,
          47.120592870399996,
          58.114285209961444,
          34.58826327802714,
          24.937270506405497,
          4.978606303757376,
          -33.04762019081564,
          29.211252463852375,
          -61.72947298984332,
          26.948205062149444,
          162.60191360583923,
          1.7635851467085664,
          39.18921273927997,
          8.727723332443537,
          52.11344790255278,
          0.3594949966627265,
          48.57489182488245,
          51.81179504997284,
          28.392529629368926,
          62.76245085854459,
          12.834162638620388,
          -45.581555600504075,
          -1.1144707907168456,
          -16.6719274957542,
          -15.67025298775737,
          -17.337233261048468,
          35.60880319165163,
          21.770715170882788,
          -40.921846294161085,
          -34.54138514652958,
          83.14873339410894,
          -97.75974172605842,
          39.44032952909195,
          36.99779066327392,
          1.8897818055907039,
          -11.832142882701797,
          -8.723380968115391,
          -13.648561598619576,
          27.595348492781774,
          -34.738434706614335,
          -27.050458733399413,
          14.509166394411185,
          72.9306385629271,
          -79.3555886904002,
          68.50281698218802,
          -42.497430274905454,
          -28.18120832165465,
          -23.048428415299526,
          -38.43706551765258,
          64.9008922892922,
          -41.98024985401003,
          -13.174540394008146,
          87.69148665917325,
          -41.183217704634856,
          -42.222527522741224,
          70.97681846390313,
          -19.219415215376447,
          -32.73381254366671,
          -78.0338285981367,
          -58.35909872895529,
          -49.090214808968874,
          -67.96283216865687,
          -4.554120864592313,
          16.42800779813792,
          -51.96381148203706,
          -114.75598083902283,
          -10.396141982986428
         ],
         "y": [
          2.8738378107983644,
          -39.8713736247711,
          -23.636819877209685,
          -28.438035765520908,
          -15.87446784451394,
          4.003923774219342,
          -3.0389608552097376,
          -26.274563714433423,
          -7.429777389734832,
          -19.91007593653561,
          -9.175363739431722,
          8.471264672498227,
          -22.421257484854706,
          5.703439637255528,
          -10.257943739863158,
          -9.645703789892064,
          -24.258427219532425,
          39.25974108928827,
          -21.04040908667574,
          2.344694733869159,
          -9.663085020520654,
          -30.51725418516793,
          -28.720002442418124,
          15.525451055089219,
          -28.562265628674243,
          -7.187624356487101,
          -3.7877334199852792,
          24.527124915663265,
          -7.718694341755649,
          -1.7648503256847679,
          -22.222973933510307,
          11.48885870161697,
          -39.04098382137117,
          -3.580931993042815,
          23.412414655103905,
          -9.213562823890127,
          -20.775878634175374,
          -12.901345462311896,
          5.496296322214155,
          1.3172985604137941,
          6.517963612690121,
          -30.98576428955538,
          -2.1722853211556874,
          5.727417445757739,
          -35.04458224861224,
          -25.043244615376565,
          -30.508715309551643,
          -7.144593990456771,
          33.765619983968485,
          -9.489165064326707,
          -0.3784049163455091,
          -1.497132815492858,
          5.109100881279328,
          -27.099537391045928,
          -20.079735358429893,
          -7.479673725515078,
          -37.23407454573432,
          -38.268268036016714,
          -27.734277039588036,
          -10.151553081075061,
          19.582484815757873,
          -9.979763704928468,
          -40.159813119529915,
          15.971522416291055,
          -12.833609466157117,
          -33.25207989243249,
          3.0610062835351957,
          -26.426319788732354,
          -22.510310415319573,
          -11.749970926944856,
          1.0576004799682661,
          -8.427311765520102,
          -55.163046477724286,
          -35.56896554309671,
          -17.462276566474692,
          -10.701210758628047,
          -17.25022085307267,
          -11.850059197457783,
          -33.611146973806356,
          -6.250339640142824,
          -33.27734454135423,
          -23.205849726015057,
          -13.59890641324979,
          -27.05364129509719,
          21.321818559388966,
          -15.719827165382666,
          -0.8679997974326985,
          -9.987851870237126,
          -9.857933646096662,
          24.36658139806019,
          -26.924008891256893,
          -16.666582148802114,
          -18.23742965216526,
          -9.996027116513833,
          9.28658060841829,
          38.97466827298724,
          -7.786360306790233,
          -0.028002135385450468,
          -15.650613348352147,
          -23.24970199640512,
          -28.24102563390321,
          9.776850465494388,
          -25.26221867552812,
          -46.689999919249274,
          -13.188919730103466,
          35.80758209371344,
          24.034075886976385,
          -3.1464302454277835,
          -14.046942457217368,
          -12.353717615611801,
          0.9767015811173128,
          -18.128986219787297,
          17.551917711850795,
          -14.7459363825184,
          -5.626180950949627,
          -23.70182438063105,
          -19.912871577047248,
          -11.958861089228733,
          -25.347458561937735,
          -3.103807767451316,
          27.542577706346837,
          -30.61213888067754,
          -26.778716994488658,
          -19.927714185806234,
          -34.52041175567138,
          -45.831934076149146,
          3.915006948415683,
          -18.06293958317493,
          -17.948380981842526,
          29.90736027871317,
          -9.32987328038657,
          -13.309573301676112,
          -16.514053173501527,
          -7.774133849862017,
          -17.26503789604351,
          -14.661037472198226,
          53.51963151673641,
          11.149955889094157,
          22.240236666591112,
          44.692704709522296,
          -9.989801237756778,
          -35.528409754543816,
          -25.59548220563224,
          7.566997673639882,
          38.62645456116156,
          11.863369702585487,
          -2.611731329136973,
          -17.856450995088544,
          -21.66221392176704,
          -1.5283420420976688,
          16.817249203475942,
          26.98180253440344,
          0.8456771765078577,
          0.6679970329321253,
          -3.966168590717077,
          19.668483097701433,
          -30.373921692203023,
          -27.307219879387553,
          6.026894068553584,
          -12.46128297348233,
          -19.714533855751885,
          -17.70091135089626,
          -33.559355785804165,
          -23.764388647235094,
          -23.764388647235094,
          45.22499245131598,
          21.671071126450485,
          -8.196661642236435,
          3.8662115864371955,
          -3.705555597563704,
          7.401391257437365,
          -20.998726150605375,
          -11.387096605320592,
          -21.654367513080043,
          18.94548978095772,
          31.545148040239585,
          -10.260641259053868,
          -7.310544664342499,
          27.08139293534337,
          38.61156646219914,
          15.353849686297352,
          39.129596634659364,
          -19.52166445114987,
          -16.041848086803846,
          22.365676093927213,
          -8.064481364557778,
          6.266563596853232,
          38.52565455881278,
          -12.731844092217143,
          -11.419961405038501,
          5.5670962031025155,
          19.162956691095722,
          35.69371283283658,
          9.261620264338195,
          -2.128507815730736,
          12.77533116472459,
          3.292504616894186,
          -11.57127606282841,
          49.32209996916437,
          -8.497999381601636,
          -29.918102626978886,
          8.618701129118127,
          39.87572840451107,
          6.62398075402439,
          10.616930431507754,
          -12.074725710647463,
          6.24254700900489,
          -4.422891577847801,
          9.381768867226503,
          -9.015733417776254,
          0.07650989663210983,
          9.233326422975251,
          5.753321966494173,
          4.996117284778137,
          5.102379502177713,
          9.515014022720967,
          52.33797880655541,
          17.072717276578704,
          24.318530108141612,
          -1.854423695730668,
          -3.803877868606926,
          39.42636678945314,
          -21.90669577343802,
          22.952201276464795,
          20.99414182446483,
          29.779022323109377,
          45.105219106924366,
          15.426737795642245,
          -5.166116672436356,
          18.074319701241915,
          -6.0793900732755795,
          28.21541757577349,
          6.794305993692636,
          53.032069799948935,
          40.98935650382226,
          -23.573567299725056,
          -21.93529322178652,
          -18.868649598183246,
          -9.741688911196519,
          -11.026952301491914,
          42.17422628058066,
          11.678722531767555,
          21.094925453327026,
          62.32531845174331,
          45.215141611650616,
          -18.470790382258205,
          -2.910473516573343,
          34.05029497643469,
          -38.85372561193474,
          6.980518189933093,
          26.369895665046613,
          4.489853943606096,
          43.827311838550926,
          22.110778266900994,
          27.294975642694993,
          0.7668497689817576,
          19.309109725913615,
          24.509521624984178,
          -0.8929953961691248,
          -35.479712550389806,
          -7.67974908731597,
          -12.283010624519585,
          51.61482132826279,
          -20.186896441862345,
          39.172946471482284,
          17.989083331432415,
          35.52438945683077,
          22.60183724666603,
          31.11466798229877,
          45.035809512707274,
          2.7283359960184894,
          6.250177088174524,
          78.13236198543608,
          -8.600171593240429,
          26.80336274220164,
          -18.37069737841699,
          46.3670419599404,
          7.823376274505466,
          -2.6113357584632535,
          27.584309364810732,
          20.97461454044137,
          -6.187158356169076,
          16.10832970697758,
          -30.709353695961735,
          14.253710486213299,
          27.107648782240698,
          -10.186375200251915,
          -10.971003693189752,
          3.0672680325367185,
          19.7802575428842,
          -7.356292230445812,
          6.968316014024539,
          8.685456373260372,
          4.717106467293591,
          3.9758677357506143,
          9.19123625357117,
          15.067393209003685,
          63.88014488031159,
          27.49016903223377,
          12.921715981990717,
          13.323798359450018,
          36.43518422982433,
          -23.302400807448848
         ],
         "z": [
          14.96987876406738,
          0.8778823026024937,
          1.7594458948968346,
          -7.044180484188899,
          -14.8615748027776,
          11.088387731179942,
          6.43875850765576,
          -10.574370919273505,
          43.35971871026608,
          25.50629853581496,
          9.874630087557623,
          -5.235580036358412,
          -0.5302012472604338,
          -18.94826607939045,
          18.243320568626462,
          -9.494128338924446,
          -12.856802654126747,
          15.971170690899037,
          19.330890412814888,
          10.63034644574364,
          5.9710833238107535,
          1.5565111270485177,
          11.339425434867433,
          17.423608467707975,
          12.494342183686515,
          28.71539917670871,
          21.331181841294796,
          -21.478349608867546,
          1.8347602881862835,
          1.0545604421806554,
          -23.0194336846312,
          -7.821439412652824,
          3.4218411930029,
          -7.602962651296348,
          -8.39877349601535,
          14.011280893266118,
          2.952292226870504,
          20.718033330874636,
          22.9260054485423,
          23.598192590229445,
          3.6908425362158015,
          1.5741139465432075,
          -26.565660671624965,
          -3.538311298526403,
          6.661501321418861,
          -12.852246329573486,
          11.405540716064602,
          5.6042494250693995,
          -6.66738609938694,
          8.031610475813848,
          -2.597900965301184,
          -12.632045479328236,
          -0.30819212271241403,
          -15.884515961708695,
          6.983698810828579,
          5.411634708801351,
          -4.350973431177237,
          -13.66522040785514,
          -9.531187227438709,
          -4.923546190173872,
          -22.637487689837,
          -25.638180033104934,
          -5.411657091686642,
          1.549068213445799,
          12.453136390403543,
          11.213188502556731,
          -31.10544929690479,
          1.117232113787653,
          -8.775182883467842,
          -2.9350516908957736,
          -12.402215712834693,
          -35.843199168609836,
          4.107204360500174,
          11.722792934889853,
          -7.213335337893107,
          4.672241682538137,
          -4.735626929858352,
          11.928501381794156,
          2.658681390078199,
          -24.814505153395206,
          -17.369366156266658,
          -5.264840703800812,
          -30.710689246106426,
          20.756281130344888,
          -35.179119502885506,
          -29.558490820822065,
          -13.055715457122732,
          -27.81764978539177,
          -18.56056583179769,
          -34.26721177190798,
          -5.461463714546307,
          5.042131947343792,
          9.651293246489846,
          -0.5981777132981722,
          -17.57828505181271,
          6.050387077841462,
          2.6139336436265745,
          -23.17278914900812,
          -4.913597828615546,
          1.2665663160490055,
          18.31905005821347,
          44.372686631931565,
          15.696383304813331,
          -6.926240349069879,
          1.1427831803950366,
          -12.370155723133996,
          27.939459921298972,
          5.898550136550556,
          -10.26311498637292,
          -20.994910468853845,
          45.262856787860336,
          27.509871150930824,
          3.890079222893198,
          -19.430966097035117,
          -1.6420588070859796,
          -9.392164700874856,
          0.7480229935974133,
          -6.891122544033319,
          -22.185590915373936,
          5.666158978129501,
          -6.828502042542807,
          9.737952549316368,
          -19.183667546185244,
          -22.074953762834355,
          -32.706214146468,
          -8.642251497833174,
          -18.92930256049044,
          22.914314528129303,
          9.050294069691867,
          -13.810000054759575,
          31.846361254102014,
          1.9820915068094482,
          -13.872456275766151,
          -21.929192142617612,
          -8.533813578763867,
          -1.7248305512394841,
          -14.160421599501676,
          -1.9089015307521517,
          -21.664002838219478,
          -8.9708712556676,
          -13.372076287435382,
          -16.60846831652984,
          -8.070371706766498,
          -23.396927171938998,
          9.111371670828715,
          25.100040799455304,
          -14.549718320853811,
          21.83455238150606,
          -9.203134129341949,
          0.2588193619013455,
          28.761016062374136,
          -15.423106016380757,
          40.58295709349964,
          14.270767044915425,
          5.967159332539075,
          -1.0508292711817444,
          0.912073781302073,
          -6.0002535733306015,
          -5.434807774308026,
          1.6042357320255765,
          -8.410741184623163,
          -2.316372446417881,
          -4.400106317884284,
          10.851436898473132,
          10.851436898473132,
          22.077295866902933,
          -11.599933348842264,
          9.442479642314437,
          -1.2453473672855397,
          10.965300373433996,
          -2.8640843708985235,
          -18.796542838069236,
          -11.54112121542295,
          5.000511639996065,
          -1.1008624779875003,
          -23.60554550382668,
          -11.491862050932852,
          5.990081152335455,
          -13.136734194332412,
          12.005913456814827,
          -7.258910858187716,
          15.87751486898596,
          -2.5452552196693046,
          -15.98999165097486,
          14.88542741780449,
          -22.384938231265735,
          -1.9628156490829844,
          -13.77078374198723,
          10.079092040531664,
          -18.082319695716492,
          -5.997850522751644,
          -3.9516472462881542,
          -13.226794845315474,
          11.060534839460377,
          12.76364854091439,
          32.99551698058673,
          17.460993818191692,
          -3.5978055895693353,
          -18.038180537431185,
          -18.92443474481976,
          -16.524848384811175,
          -7.497396051740444,
          12.305458865785916,
          47.8791717768024,
          32.4734542535049,
          -2.8542969713863906,
          -21.276458605323885,
          19.125820653357447,
          -10.475991722031836,
          13.907949124938728,
          -2.30142384033677,
          -12.50927519022514,
          -15.175766987286543,
          10.406210386057495,
          -7.1671498608556075,
          -7.619059675002464,
          -8.266098828525593,
          -7.031543460546953,
          1.3514313559725617,
          -2.8502397018954815,
          11.553808750451923,
          4.848118021983942,
          8.941615294800657,
          63.13637519797671,
          -23.954766617350746,
          15.606586713308909,
          -18.23356425741649,
          -13.930674285578633,
          37.364702499190095,
          -10.882533580885728,
          -23.670399867596764,
          27.64416432048127,
          25.17528056039889,
          -17.102506857405967,
          -8.708414323547894,
          8.127144821596408,
          -6.040819027723286,
          9.184847915161669,
          -5.017068984153742,
          -8.971901467007472,
          23.849554807243067,
          41.19149951919798,
          13.824047381728134,
          10.983227281898895,
          -2.009701750879997,
          -7.601778172405006,
          -5.682183753328998,
          25.521907986427962,
          63.230683380842024,
          9.227785957866931,
          1.641631576699198,
          -1.946289450784041,
          -0.8193807260564406,
          -35.33861196995404,
          23.916044373954474,
          5.480807647158335,
          -6.26458283464614,
          10.905397733015871,
          19.67875109658375,
          -8.489779504006986,
          49.926170005595985,
          -17.429242436837235,
          -17.497722458206137,
          -20.777069517246144,
          -24.621207337897523,
          -18.36293657766064,
          39.29224041866757,
          -12.144729072686834,
          -15.837957894100098,
          -9.268121299477023,
          -13.34619297064696,
          3.2220149225577175,
          -19.51159898538354,
          -29.180574386242544,
          -27.71093311371924,
          -2.6980248957244575,
          10.262632052831169,
          -9.034835921121458,
          1.3578905302366149,
          8.020616235142363,
          -3.932087748960978,
          -0.8974938214167384,
          -5.503168799391368,
          23.416342228557696,
          9.559007988706133,
          0.0687019775266376,
          6.669802513400911,
          24.876807863908283,
          -26.267680733147703,
          -3.9121672744673686,
          20.565802630548262,
          -21.716660407965932,
          38.783766255434614,
          23.392486950775407,
          -9.510163907421841,
          11.624416151264283,
          -5.6779001526945025,
          28.270492767119727,
          5.37449272034781,
          -25.582794263181494,
          15.48684357599128,
          0.12777095236110356,
          2.3913035434201233
         ]
        }
       ],
       "layout": {
        "coloraxis": {
         "colorbar": {
          "title": {
           "text": "color"
          }
         },
         "colorscale": [
          [
           0,
           "#0d0887"
          ],
          [
           0.1111111111111111,
           "#46039f"
          ],
          [
           0.2222222222222222,
           "#7201a8"
          ],
          [
           0.3333333333333333,
           "#9c179e"
          ],
          [
           0.4444444444444444,
           "#bd3786"
          ],
          [
           0.5555555555555556,
           "#d8576b"
          ],
          [
           0.6666666666666666,
           "#ed7953"
          ],
          [
           0.7777777777777778,
           "#fb9f3a"
          ],
          [
           0.8888888888888888,
           "#fdca26"
          ],
          [
           1,
           "#f0f921"
          ]
         ]
        },
        "legend": {
         "tracegroupgap": 0
        },
        "margin": {
         "t": 60
        },
        "scene": {
         "domain": {
          "x": [
           0,
           1
          ],
          "y": [
           0,
           1
          ]
         },
         "xaxis": {
          "title": {
           "text": "x"
          }
         },
         "yaxis": {
          "title": {
           "text": "y"
          }
         },
         "zaxis": {
          "title": {
           "text": "z"
          }
         }
        },
        "template": {
         "data": {
          "bar": [
           {
            "error_x": {
             "color": "#2a3f5f"
            },
            "error_y": {
             "color": "#2a3f5f"
            },
            "marker": {
             "line": {
              "color": "#E5ECF6",
              "width": 0.5
             },
             "pattern": {
              "fillmode": "overlay",
              "size": 10,
              "solidity": 0.2
             }
            },
            "type": "bar"
           }
          ],
          "barpolar": [
           {
            "marker": {
             "line": {
              "color": "#E5ECF6",
              "width": 0.5
             },
             "pattern": {
              "fillmode": "overlay",
              "size": 10,
              "solidity": 0.2
             }
            },
            "type": "barpolar"
           }
          ],
          "carpet": [
           {
            "aaxis": {
             "endlinecolor": "#2a3f5f",
             "gridcolor": "white",
             "linecolor": "white",
             "minorgridcolor": "white",
             "startlinecolor": "#2a3f5f"
            },
            "baxis": {
             "endlinecolor": "#2a3f5f",
             "gridcolor": "white",
             "linecolor": "white",
             "minorgridcolor": "white",
             "startlinecolor": "#2a3f5f"
            },
            "type": "carpet"
           }
          ],
          "choropleth": [
           {
            "colorbar": {
             "outlinewidth": 0,
             "ticks": ""
            },
            "type": "choropleth"
           }
          ],
          "contour": [
           {
            "colorbar": {
             "outlinewidth": 0,
             "ticks": ""
            },
            "colorscale": [
             [
              0,
              "#0d0887"
             ],
             [
              0.1111111111111111,
              "#46039f"
             ],
             [
              0.2222222222222222,
              "#7201a8"
             ],
             [
              0.3333333333333333,
              "#9c179e"
             ],
             [
              0.4444444444444444,
              "#bd3786"
             ],
             [
              0.5555555555555556,
              "#d8576b"
             ],
             [
              0.6666666666666666,
              "#ed7953"
             ],
             [
              0.7777777777777778,
              "#fb9f3a"
             ],
             [
              0.8888888888888888,
              "#fdca26"
             ],
             [
              1,
              "#f0f921"
             ]
            ],
            "type": "contour"
           }
          ],
          "contourcarpet": [
           {
            "colorbar": {
             "outlinewidth": 0,
             "ticks": ""
            },
            "type": "contourcarpet"
           }
          ],
          "heatmap": [
           {
            "colorbar": {
             "outlinewidth": 0,
             "ticks": ""
            },
            "colorscale": [
             [
              0,
              "#0d0887"
             ],
             [
              0.1111111111111111,
              "#46039f"
             ],
             [
              0.2222222222222222,
              "#7201a8"
             ],
             [
              0.3333333333333333,
              "#9c179e"
             ],
             [
              0.4444444444444444,
              "#bd3786"
             ],
             [
              0.5555555555555556,
              "#d8576b"
             ],
             [
              0.6666666666666666,
              "#ed7953"
             ],
             [
              0.7777777777777778,
              "#fb9f3a"
             ],
             [
              0.8888888888888888,
              "#fdca26"
             ],
             [
              1,
              "#f0f921"
             ]
            ],
            "type": "heatmap"
           }
          ],
          "heatmapgl": [
           {
            "colorbar": {
             "outlinewidth": 0,
             "ticks": ""
            },
            "colorscale": [
             [
              0,
              "#0d0887"
             ],
             [
              0.1111111111111111,
              "#46039f"
             ],
             [
              0.2222222222222222,
              "#7201a8"
             ],
             [
              0.3333333333333333,
              "#9c179e"
             ],
             [
              0.4444444444444444,
              "#bd3786"
             ],
             [
              0.5555555555555556,
              "#d8576b"
             ],
             [
              0.6666666666666666,
              "#ed7953"
             ],
             [
              0.7777777777777778,
              "#fb9f3a"
             ],
             [
              0.8888888888888888,
              "#fdca26"
             ],
             [
              1,
              "#f0f921"
             ]
            ],
            "type": "heatmapgl"
           }
          ],
          "histogram": [
           {
            "marker": {
             "pattern": {
              "fillmode": "overlay",
              "size": 10,
              "solidity": 0.2
             }
            },
            "type": "histogram"
           }
          ],
          "histogram2d": [
           {
            "colorbar": {
             "outlinewidth": 0,
             "ticks": ""
            },
            "colorscale": [
             [
              0,
              "#0d0887"
             ],
             [
              0.1111111111111111,
              "#46039f"
             ],
             [
              0.2222222222222222,
              "#7201a8"
             ],
             [
              0.3333333333333333,
              "#9c179e"
             ],
             [
              0.4444444444444444,
              "#bd3786"
             ],
             [
              0.5555555555555556,
              "#d8576b"
             ],
             [
              0.6666666666666666,
              "#ed7953"
             ],
             [
              0.7777777777777778,
              "#fb9f3a"
             ],
             [
              0.8888888888888888,
              "#fdca26"
             ],
             [
              1,
              "#f0f921"
             ]
            ],
            "type": "histogram2d"
           }
          ],
          "histogram2dcontour": [
           {
            "colorbar": {
             "outlinewidth": 0,
             "ticks": ""
            },
            "colorscale": [
             [
              0,
              "#0d0887"
             ],
             [
              0.1111111111111111,
              "#46039f"
             ],
             [
              0.2222222222222222,
              "#7201a8"
             ],
             [
              0.3333333333333333,
              "#9c179e"
             ],
             [
              0.4444444444444444,
              "#bd3786"
             ],
             [
              0.5555555555555556,
              "#d8576b"
             ],
             [
              0.6666666666666666,
              "#ed7953"
             ],
             [
              0.7777777777777778,
              "#fb9f3a"
             ],
             [
              0.8888888888888888,
              "#fdca26"
             ],
             [
              1,
              "#f0f921"
             ]
            ],
            "type": "histogram2dcontour"
           }
          ],
          "mesh3d": [
           {
            "colorbar": {
             "outlinewidth": 0,
             "ticks": ""
            },
            "type": "mesh3d"
           }
          ],
          "parcoords": [
           {
            "line": {
             "colorbar": {
              "outlinewidth": 0,
              "ticks": ""
             }
            },
            "type": "parcoords"
           }
          ],
          "pie": [
           {
            "automargin": true,
            "type": "pie"
           }
          ],
          "scatter": [
           {
            "marker": {
             "colorbar": {
              "outlinewidth": 0,
              "ticks": ""
             }
            },
            "type": "scatter"
           }
          ],
          "scatter3d": [
           {
            "line": {
             "colorbar": {
              "outlinewidth": 0,
              "ticks": ""
             }
            },
            "marker": {
             "colorbar": {
              "outlinewidth": 0,
              "ticks": ""
             }
            },
            "type": "scatter3d"
           }
          ],
          "scattercarpet": [
           {
            "marker": {
             "colorbar": {
              "outlinewidth": 0,
              "ticks": ""
             }
            },
            "type": "scattercarpet"
           }
          ],
          "scattergeo": [
           {
            "marker": {
             "colorbar": {
              "outlinewidth": 0,
              "ticks": ""
             }
            },
            "type": "scattergeo"
           }
          ],
          "scattergl": [
           {
            "marker": {
             "colorbar": {
              "outlinewidth": 0,
              "ticks": ""
             }
            },
            "type": "scattergl"
           }
          ],
          "scattermapbox": [
           {
            "marker": {
             "colorbar": {
              "outlinewidth": 0,
              "ticks": ""
             }
            },
            "type": "scattermapbox"
           }
          ],
          "scatterpolar": [
           {
            "marker": {
             "colorbar": {
              "outlinewidth": 0,
              "ticks": ""
             }
            },
            "type": "scatterpolar"
           }
          ],
          "scatterpolargl": [
           {
            "marker": {
             "colorbar": {
              "outlinewidth": 0,
              "ticks": ""
             }
            },
            "type": "scatterpolargl"
           }
          ],
          "scatterternary": [
           {
            "marker": {
             "colorbar": {
              "outlinewidth": 0,
              "ticks": ""
             }
            },
            "type": "scatterternary"
           }
          ],
          "surface": [
           {
            "colorbar": {
             "outlinewidth": 0,
             "ticks": ""
            },
            "colorscale": [
             [
              0,
              "#0d0887"
             ],
             [
              0.1111111111111111,
              "#46039f"
             ],
             [
              0.2222222222222222,
              "#7201a8"
             ],
             [
              0.3333333333333333,
              "#9c179e"
             ],
             [
              0.4444444444444444,
              "#bd3786"
             ],
             [
              0.5555555555555556,
              "#d8576b"
             ],
             [
              0.6666666666666666,
              "#ed7953"
             ],
             [
              0.7777777777777778,
              "#fb9f3a"
             ],
             [
              0.8888888888888888,
              "#fdca26"
             ],
             [
              1,
              "#f0f921"
             ]
            ],
            "type": "surface"
           }
          ],
          "table": [
           {
            "cells": {
             "fill": {
              "color": "#EBF0F8"
             },
             "line": {
              "color": "white"
             }
            },
            "header": {
             "fill": {
              "color": "#C8D4E3"
             },
             "line": {
              "color": "white"
             }
            },
            "type": "table"
           }
          ]
         },
         "layout": {
          "annotationdefaults": {
           "arrowcolor": "#2a3f5f",
           "arrowhead": 0,
           "arrowwidth": 1
          },
          "autotypenumbers": "strict",
          "coloraxis": {
           "colorbar": {
            "outlinewidth": 0,
            "ticks": ""
           }
          },
          "colorscale": {
           "diverging": [
            [
             0,
             "#8e0152"
            ],
            [
             0.1,
             "#c51b7d"
            ],
            [
             0.2,
             "#de77ae"
            ],
            [
             0.3,
             "#f1b6da"
            ],
            [
             0.4,
             "#fde0ef"
            ],
            [
             0.5,
             "#f7f7f7"
            ],
            [
             0.6,
             "#e6f5d0"
            ],
            [
             0.7,
             "#b8e186"
            ],
            [
             0.8,
             "#7fbc41"
            ],
            [
             0.9,
             "#4d9221"
            ],
            [
             1,
             "#276419"
            ]
           ],
           "sequential": [
            [
             0,
             "#0d0887"
            ],
            [
             0.1111111111111111,
             "#46039f"
            ],
            [
             0.2222222222222222,
             "#7201a8"
            ],
            [
             0.3333333333333333,
             "#9c179e"
            ],
            [
             0.4444444444444444,
             "#bd3786"
            ],
            [
             0.5555555555555556,
             "#d8576b"
            ],
            [
             0.6666666666666666,
             "#ed7953"
            ],
            [
             0.7777777777777778,
             "#fb9f3a"
            ],
            [
             0.8888888888888888,
             "#fdca26"
            ],
            [
             1,
             "#f0f921"
            ]
           ],
           "sequentialminus": [
            [
             0,
             "#0d0887"
            ],
            [
             0.1111111111111111,
             "#46039f"
            ],
            [
             0.2222222222222222,
             "#7201a8"
            ],
            [
             0.3333333333333333,
             "#9c179e"
            ],
            [
             0.4444444444444444,
             "#bd3786"
            ],
            [
             0.5555555555555556,
             "#d8576b"
            ],
            [
             0.6666666666666666,
             "#ed7953"
            ],
            [
             0.7777777777777778,
             "#fb9f3a"
            ],
            [
             0.8888888888888888,
             "#fdca26"
            ],
            [
             1,
             "#f0f921"
            ]
           ]
          },
          "colorway": [
           "#636efa",
           "#EF553B",
           "#00cc96",
           "#ab63fa",
           "#FFA15A",
           "#19d3f3",
           "#FF6692",
           "#B6E880",
           "#FF97FF",
           "#FECB52"
          ],
          "font": {
           "color": "#2a3f5f"
          },
          "geo": {
           "bgcolor": "white",
           "lakecolor": "white",
           "landcolor": "#E5ECF6",
           "showlakes": true,
           "showland": true,
           "subunitcolor": "white"
          },
          "hoverlabel": {
           "align": "left"
          },
          "hovermode": "closest",
          "mapbox": {
           "style": "light"
          },
          "paper_bgcolor": "white",
          "plot_bgcolor": "#E5ECF6",
          "polar": {
           "angularaxis": {
            "gridcolor": "white",
            "linecolor": "white",
            "ticks": ""
           },
           "bgcolor": "#E5ECF6",
           "radialaxis": {
            "gridcolor": "white",
            "linecolor": "white",
            "ticks": ""
           }
          },
          "scene": {
           "xaxis": {
            "backgroundcolor": "#E5ECF6",
            "gridcolor": "white",
            "gridwidth": 2,
            "linecolor": "white",
            "showbackground": true,
            "ticks": "",
            "zerolinecolor": "white"
           },
           "yaxis": {
            "backgroundcolor": "#E5ECF6",
            "gridcolor": "white",
            "gridwidth": 2,
            "linecolor": "white",
            "showbackground": true,
            "ticks": "",
            "zerolinecolor": "white"
           },
           "zaxis": {
            "backgroundcolor": "#E5ECF6",
            "gridcolor": "white",
            "gridwidth": 2,
            "linecolor": "white",
            "showbackground": true,
            "ticks": "",
            "zerolinecolor": "white"
           }
          },
          "shapedefaults": {
           "line": {
            "color": "#2a3f5f"
           }
          },
          "ternary": {
           "aaxis": {
            "gridcolor": "white",
            "linecolor": "white",
            "ticks": ""
           },
           "baxis": {
            "gridcolor": "white",
            "linecolor": "white",
            "ticks": ""
           },
           "bgcolor": "#E5ECF6",
           "caxis": {
            "gridcolor": "white",
            "linecolor": "white",
            "ticks": ""
           }
          },
          "title": {
           "x": 0.05
          },
          "xaxis": {
           "automargin": true,
           "gridcolor": "white",
           "linecolor": "white",
           "ticks": "",
           "title": {
            "standoff": 15
           },
           "zerolinecolor": "white",
           "zerolinewidth": 2
          },
          "yaxis": {
           "automargin": true,
           "gridcolor": "white",
           "linecolor": "white",
           "ticks": "",
           "title": {
            "standoff": 15
           },
           "zerolinecolor": "white",
           "zerolinewidth": 2
          }
         }
        }
       }
      }
     },
     "metadata": {},
     "output_type": "display_data"
    }
   ],
   "source": [
    "px.scatter_3d(x=decomposed_X[:,0],y=decomposed_X[:,1],z=decomposed_X[:,2], color=y.values)"
   ]
  },
  {
   "cell_type": "code",
   "execution_count": 14,
   "metadata": {},
   "outputs": [],
   "source": [
    "xtrain, xtest, ytrain, ytest = train_test_split(decomposed_X,y,test_size=.2,random_state=1)"
   ]
  },
  {
   "cell_type": "code",
   "execution_count": 15,
   "metadata": {},
   "outputs": [
    {
     "data": {
      "text/plain": [
       "SVC()"
      ]
     },
     "execution_count": 15,
     "metadata": {},
     "output_type": "execute_result"
    }
   ],
   "source": [
    "clf = SVC(kernel='rbf')\n",
    "clf.fit(xtrain,ytrain)"
   ]
  },
  {
   "cell_type": "code",
   "execution_count": 16,
   "metadata": {},
   "outputs": [
    {
     "name": "stdout",
     "output_type": "stream",
     "text": [
      "[[ 66  42]\n",
      " [ 21 113]]\n",
      "              precision    recall  f1-score   support\n",
      "\n",
      "           0       0.76      0.61      0.68       108\n",
      "           1       0.73      0.84      0.78       134\n",
      "\n",
      "    accuracy                           0.74       242\n",
      "   macro avg       0.74      0.73      0.73       242\n",
      "weighted avg       0.74      0.74      0.74       242\n",
      "\n"
     ]
    }
   ],
   "source": [
    "ypred = clf.predict(xtrain)\n",
    "print(confusion_matrix(ytrain,ypred))\n",
    "print(classification_report(ytrain,ypred))"
   ]
  },
  {
   "cell_type": "code",
   "execution_count": 17,
   "metadata": {},
   "outputs": [
    {
     "name": "stdout",
     "output_type": "stream",
     "text": [
      "[[ 88  20]\n",
      " [ 10 124]]\n",
      "              precision    recall  f1-score   support\n",
      "\n",
      "           0       0.90      0.81      0.85       108\n",
      "           1       0.86      0.93      0.89       134\n",
      "\n",
      "    accuracy                           0.88       242\n",
      "   macro avg       0.88      0.87      0.87       242\n",
      "weighted avg       0.88      0.88      0.88       242\n",
      "\n"
     ]
    }
   ],
   "source": [
    "decomposed_f = pca.fit_transform(scaledX)\n",
    "xtrain, xtest, ytrain, ytest = train_test_split(decomposed_f,y,test_size=.2,random_state=1)\n",
    "clf = SVC(kernel='rbf')\n",
    "clf.fit(xtrain,ytrain)\n",
    "ypred = clf.predict(xtrain)\n",
    "print(confusion_matrix(ytrain,ypred))\n",
    "print(classification_report(ytrain,ypred))"
   ]
  },
  {
   "cell_type": "code",
   "execution_count": 18,
   "metadata": {},
   "outputs": [],
   "source": [
    "from utils import plot_area_distribution"
   ]
  },
  {
   "cell_type": "code",
   "execution_count": 28,
   "metadata": {},
   "outputs": [
    {
     "name": "stderr",
     "output_type": "stream",
     "text": [
      "*c* argument looks like a single numeric RGB or RGBA sequence, which should be avoided as value-mapping will have precedence in case its length matches with *x* & *y*.  Please use the *color* keyword-argument or provide a 2D array with a single row if you intend to specify the same RGB or RGBA value for all points.\n",
      "*c* argument looks like a single numeric RGB or RGBA sequence, which should be avoided as value-mapping will have precedence in case its length matches with *x* & *y*.  Please use the *color* keyword-argument or provide a 2D array with a single row if you intend to specify the same RGB or RGBA value for all points.\n"
     ]
    },
    {
     "data": {
      "image/png": "[encoded data removed]",
      "text/plain": [
       "<Figure size 432x288 with 1 Axes>"
      ]
     },
     "metadata": {
      "needs_background": "light"
     },
     "output_type": "display_data"
    }
   ],
   "source": [
    "plot_area_distribution(clf,xtrain,ytrain,\"x\",\"y\",\"svc\")"
   ]
  },
  {
   "cell_type": "code",
   "execution_count": null,
   "metadata": {},
   "outputs": [],
   "source": []
  }
 ],
 "metadata": {
  "interpreter": {
   "hash": "d62006d1f3422635846181a997a61e8ec3049f797e5d7dfe0cd1bb84092b7c19"
  },
  "kernelspec": {
   "display_name": "Python 3.9.7 64-bit",
   "language": "python",
   "name": "python3"
  },
  "language_info": {
   "codemirror_mode": {
    "name": "ipython",
    "version": 3
   },
   "file_extension": ".py",
   "mimetype": "text/x-python",
   "name": "python",
   "nbconvert_exporter": "python",
   "pygments_lexer": "ipython3",
   "version": "3.9.7"
  },
  "orig_nbformat": 4
 },
 "nbformat": 4,
 "nbformat_minor": 2
}
