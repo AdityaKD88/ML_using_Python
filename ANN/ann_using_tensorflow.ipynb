{
 "cells": [
  {
   "cell_type": "code",
   "execution_count": 61,
   "metadata": {},
   "outputs": [],
   "source": [
    "import tensorflow as tf\n",
    "import pandas as pd\n",
    "import plotly.express as px\n",
    "import matplotlib.pyplot as plt"
   ]
  },
  {
   "cell_type": "code",
   "execution_count": 62,
   "metadata": {},
   "outputs": [
    {
     "data": {
      "text/plain": [
       "'2.8.0'"
      ]
     },
     "execution_count": 62,
     "metadata": {},
     "output_type": "execute_result"
    }
   ],
   "source": [
    "tf.__version__"
   ]
  },
  {
   "cell_type": "code",
   "execution_count": 63,
   "metadata": {},
   "outputs": [],
   "source": [
    "(xtrain,ytrain), (xtest, ytest) = tf.keras.datasets.boston_housing.load_data()"
   ]
  },
  {
   "cell_type": "code",
   "execution_count": 64,
   "metadata": {},
   "outputs": [
    {
     "data": {
      "text/plain": [
       "(102, 13)"
      ]
     },
     "execution_count": 64,
     "metadata": {},
     "output_type": "execute_result"
    }
   ],
   "source": [
    "xtest.shape"
   ]
  },
  {
   "cell_type": "code",
   "execution_count": 65,
   "metadata": {},
   "outputs": [
    {
     "data": {
      "text/plain": [
       "(102,)"
      ]
     },
     "execution_count": 65,
     "metadata": {},
     "output_type": "execute_result"
    }
   ],
   "source": [
    "ytest.shape"
   ]
  },
  {
   "cell_type": "markdown",
   "metadata": {},
   "source": [
    "Build a model"
   ]
  },
  {
   "cell_type": "code",
   "execution_count": 66,
   "metadata": {},
   "outputs": [],
   "source": [
    "norm  = tf.keras.layers.Normalization()\n",
    "norm.adapt(xtrain)"
   ]
  },
  {
   "cell_type": "code",
   "execution_count": 67,
   "metadata": {},
   "outputs": [
    {
     "name": "stdout",
     "output_type": "stream",
     "text": [
      "Model: \"sequential_6\"\n",
      "_________________________________________________________________\n",
      " Layer (type)                Output Shape              Param #   \n",
      "=================================================================\n",
      " normalization_5 (Normalizat  (None, 13)               27        \n",
      " ion)                                                            \n",
      "                                                                 \n",
      " dense_17 (Dense)            (None, 32)                448       \n",
      "                                                                 \n",
      " dense_18 (Dense)            (None, 32)                1056      \n",
      "                                                                 \n",
      " dense_19 (Dense)            (None, 1)                 33        \n",
      "                                                                 \n",
      "=================================================================\n",
      "Total params: 1,564\n",
      "Trainable params: 1,537\n",
      "Non-trainable params: 27\n",
      "_________________________________________________________________\n"
     ]
    }
   ],
   "source": [
    "model = tf.keras.models.Sequential()\n",
    "model.add(norm)\n",
    "model.add(tf.keras.layers.Dense(32, input_shape=(13,), activation='relu'))\n",
    "model.add(tf.keras.layers.Dense(32, activation='relu'))\n",
    "model.add(tf.keras.layers.Dense(1))\n",
    "model.summary()"
   ]
  },
  {
   "cell_type": "markdown",
   "metadata": {},
   "source": [
    "compile the model"
   ]
  },
  {
   "cell_type": "code",
   "execution_count": 68,
   "metadata": {},
   "outputs": [],
   "source": [
    "model.compile(\n",
    "    optimizer = tf.keras.optimizers.Adam(),\n",
    "    loss = ['mean_absolute_error'],\n",
    "    metrics=['accuracy']\n",
    ")"
   ]
  },
  {
   "cell_type": "markdown",
   "metadata": {},
   "source": [
    "train model"
   ]
  },
  {
   "cell_type": "code",
   "execution_count": 69,
   "metadata": {},
   "outputs": [],
   "source": [
    "es = tf.keras.callbacks.EarlyStopping(patience=5)"
   ]
  },
  {
   "cell_type": "code",
   "execution_count": 70,
   "metadata": {},
   "outputs": [
    {
     "name": "stdout",
     "output_type": "stream",
     "text": [
      "Epoch 1/100\n",
      "13/13 [==============================] - 1s 24ms/step - loss: 21.9065 - accuracy: 0.0000e+00 - val_loss: 22.2546 - val_accuracy: 0.0000e+00\n",
      "Epoch 2/100\n",
      "13/13 [==============================] - 0s 7ms/step - loss: 21.2688 - accuracy: 0.0000e+00 - val_loss: 21.5014 - val_accuracy: 0.0000e+00\n",
      "Epoch 3/100\n",
      "13/13 [==============================] - 0s 8ms/step - loss: 20.4539 - accuracy: 0.0000e+00 - val_loss: 20.5373 - val_accuracy: 0.0000e+00\n",
      "Epoch 4/100\n",
      "13/13 [==============================] - 0s 8ms/step - loss: 19.4006 - accuracy: 0.0000e+00 - val_loss: 19.3356 - val_accuracy: 0.0000e+00\n",
      "Epoch 5/100\n",
      "13/13 [==============================] - 0s 8ms/step - loss: 18.0892 - accuracy: 0.0000e+00 - val_loss: 17.8982 - val_accuracy: 0.0000e+00\n",
      "Epoch 6/100\n",
      "13/13 [==============================] - 0s 8ms/step - loss: 16.5002 - accuracy: 0.0000e+00 - val_loss: 16.3059 - val_accuracy: 0.0000e+00\n",
      "Epoch 7/100\n",
      "13/13 [==============================] - 0s 8ms/step - loss: 14.6458 - accuracy: 0.0000e+00 - val_loss: 14.3134 - val_accuracy: 0.0000e+00\n",
      "Epoch 8/100\n",
      "13/13 [==============================] - 0s 8ms/step - loss: 12.4912 - accuracy: 0.0000e+00 - val_loss: 12.0148 - val_accuracy: 0.0000e+00\n",
      "Epoch 9/100\n",
      "13/13 [==============================] - 0s 8ms/step - loss: 10.1745 - accuracy: 0.0000e+00 - val_loss: 9.9096 - val_accuracy: 0.0000e+00\n",
      "Epoch 10/100\n",
      "13/13 [==============================] - 0s 8ms/step - loss: 8.2782 - accuracy: 0.0000e+00 - val_loss: 8.5539 - val_accuracy: 0.0000e+00\n",
      "Epoch 11/100\n",
      "13/13 [==============================] - 0s 8ms/step - loss: 7.3511 - accuracy: 0.0000e+00 - val_loss: 7.6888 - val_accuracy: 0.0000e+00\n",
      "Epoch 12/100\n",
      "13/13 [==============================] - 0s 8ms/step - loss: 6.6133 - accuracy: 0.0000e+00 - val_loss: 6.8405 - val_accuracy: 0.0000e+00\n",
      "Epoch 13/100\n",
      "13/13 [==============================] - 0s 7ms/step - loss: 5.8615 - accuracy: 0.0000e+00 - val_loss: 6.0504 - val_accuracy: 0.0000e+00\n",
      "Epoch 14/100\n",
      "13/13 [==============================] - 0s 7ms/step - loss: 5.1677 - accuracy: 0.0000e+00 - val_loss: 5.3373 - val_accuracy: 0.0000e+00\n",
      "Epoch 15/100\n",
      "13/13 [==============================] - 0s 8ms/step - loss: 4.5134 - accuracy: 0.0000e+00 - val_loss: 4.7974 - val_accuracy: 0.0000e+00\n",
      "Epoch 16/100\n",
      "13/13 [==============================] - 0s 10ms/step - loss: 4.0014 - accuracy: 0.0000e+00 - val_loss: 4.4322 - val_accuracy: 0.0000e+00\n",
      "Epoch 17/100\n",
      "13/13 [==============================] - 0s 7ms/step - loss: 3.6404 - accuracy: 0.0000e+00 - val_loss: 4.1493 - val_accuracy: 0.0000e+00\n",
      "Epoch 18/100\n",
      "13/13 [==============================] - 0s 7ms/step - loss: 3.4312 - accuracy: 0.0000e+00 - val_loss: 3.9500 - val_accuracy: 0.0000e+00\n",
      "Epoch 19/100\n",
      "13/13 [==============================] - 0s 8ms/step - loss: 3.2472 - accuracy: 0.0000e+00 - val_loss: 3.7998 - val_accuracy: 0.0000e+00\n",
      "Epoch 20/100\n",
      "13/13 [==============================] - 0s 7ms/step - loss: 3.1301 - accuracy: 0.0000e+00 - val_loss: 3.7500 - val_accuracy: 0.0000e+00\n",
      "Epoch 21/100\n",
      "13/13 [==============================] - 0s 7ms/step - loss: 3.0580 - accuracy: 0.0000e+00 - val_loss: 3.6685 - val_accuracy: 0.0000e+00\n",
      "Epoch 22/100\n",
      "13/13 [==============================] - 0s 7ms/step - loss: 2.9672 - accuracy: 0.0000e+00 - val_loss: 3.5590 - val_accuracy: 0.0000e+00\n",
      "Epoch 23/100\n",
      "13/13 [==============================] - 0s 7ms/step - loss: 2.9050 - accuracy: 0.0000e+00 - val_loss: 3.5317 - val_accuracy: 0.0000e+00\n",
      "Epoch 24/100\n",
      "13/13 [==============================] - 0s 7ms/step - loss: 2.8491 - accuracy: 0.0000e+00 - val_loss: 3.4486 - val_accuracy: 0.0000e+00\n",
      "Epoch 25/100\n",
      "13/13 [==============================] - 0s 7ms/step - loss: 2.7635 - accuracy: 0.0000e+00 - val_loss: 3.4199 - val_accuracy: 0.0000e+00\n",
      "Epoch 26/100\n",
      "13/13 [==============================] - 0s 7ms/step - loss: 2.7151 - accuracy: 0.0000e+00 - val_loss: 3.3764 - val_accuracy: 0.0000e+00\n",
      "Epoch 27/100\n",
      "13/13 [==============================] - 0s 7ms/step - loss: 2.6695 - accuracy: 0.0000e+00 - val_loss: 3.2826 - val_accuracy: 0.0000e+00\n",
      "Epoch 28/100\n",
      "13/13 [==============================] - 0s 8ms/step - loss: 2.6181 - accuracy: 0.0000e+00 - val_loss: 3.2646 - val_accuracy: 0.0000e+00\n",
      "Epoch 29/100\n",
      "13/13 [==============================] - 0s 7ms/step - loss: 2.5618 - accuracy: 0.0000e+00 - val_loss: 3.2231 - val_accuracy: 0.0000e+00\n",
      "Epoch 30/100\n",
      "13/13 [==============================] - 0s 7ms/step - loss: 2.5361 - accuracy: 0.0000e+00 - val_loss: 3.1573 - val_accuracy: 0.0000e+00\n",
      "Epoch 31/100\n",
      "13/13 [==============================] - 0s 7ms/step - loss: 2.4855 - accuracy: 0.0000e+00 - val_loss: 3.1595 - val_accuracy: 0.0000e+00\n",
      "Epoch 32/100\n",
      "13/13 [==============================] - 0s 8ms/step - loss: 2.4555 - accuracy: 0.0000e+00 - val_loss: 3.1215 - val_accuracy: 0.0000e+00\n",
      "Epoch 33/100\n",
      "13/13 [==============================] - 0s 7ms/step - loss: 2.4356 - accuracy: 0.0000e+00 - val_loss: 3.0663 - val_accuracy: 0.0000e+00\n",
      "Epoch 34/100\n",
      "13/13 [==============================] - 0s 7ms/step - loss: 2.4212 - accuracy: 0.0000e+00 - val_loss: 3.0581 - val_accuracy: 0.0000e+00\n",
      "Epoch 35/100\n",
      "13/13 [==============================] - 0s 7ms/step - loss: 2.3818 - accuracy: 0.0000e+00 - val_loss: 3.0415 - val_accuracy: 0.0000e+00\n",
      "Epoch 36/100\n",
      "13/13 [==============================] - 0s 7ms/step - loss: 2.3634 - accuracy: 0.0000e+00 - val_loss: 3.0143 - val_accuracy: 0.0000e+00\n",
      "Epoch 37/100\n",
      "13/13 [==============================] - 0s 8ms/step - loss: 2.3529 - accuracy: 0.0000e+00 - val_loss: 3.0477 - val_accuracy: 0.0000e+00\n",
      "Epoch 38/100\n",
      "13/13 [==============================] - 0s 7ms/step - loss: 2.3349 - accuracy: 0.0000e+00 - val_loss: 2.9937 - val_accuracy: 0.0000e+00\n",
      "Epoch 39/100\n",
      "13/13 [==============================] - 0s 7ms/step - loss: 2.2989 - accuracy: 0.0000e+00 - val_loss: 3.0197 - val_accuracy: 0.0000e+00\n",
      "Epoch 40/100\n",
      "13/13 [==============================] - 0s 7ms/step - loss: 2.2981 - accuracy: 0.0000e+00 - val_loss: 2.9724 - val_accuracy: 0.0000e+00\n",
      "Epoch 41/100\n",
      "13/13 [==============================] - 0s 7ms/step - loss: 2.2631 - accuracy: 0.0000e+00 - val_loss: 2.9817 - val_accuracy: 0.0000e+00\n",
      "Epoch 42/100\n",
      "13/13 [==============================] - 0s 7ms/step - loss: 2.2466 - accuracy: 0.0000e+00 - val_loss: 2.9971 - val_accuracy: 0.0000e+00\n",
      "Epoch 43/100\n",
      "13/13 [==============================] - 0s 7ms/step - loss: 2.2290 - accuracy: 0.0000e+00 - val_loss: 2.9622 - val_accuracy: 0.0000e+00\n",
      "Epoch 44/100\n",
      "13/13 [==============================] - 0s 8ms/step - loss: 2.2186 - accuracy: 0.0000e+00 - val_loss: 2.9341 - val_accuracy: 0.0000e+00\n",
      "Epoch 45/100\n",
      "13/13 [==============================] - 0s 7ms/step - loss: 2.2273 - accuracy: 0.0000e+00 - val_loss: 2.9525 - val_accuracy: 0.0000e+00\n",
      "Epoch 46/100\n",
      "13/13 [==============================] - 0s 9ms/step - loss: 2.1914 - accuracy: 0.0000e+00 - val_loss: 2.9475 - val_accuracy: 0.0000e+00\n",
      "Epoch 47/100\n",
      "13/13 [==============================] - 0s 9ms/step - loss: 2.1709 - accuracy: 0.0000e+00 - val_loss: 2.9620 - val_accuracy: 0.0000e+00\n",
      "Epoch 48/100\n",
      "13/13 [==============================] - 0s 8ms/step - loss: 2.1535 - accuracy: 0.0000e+00 - val_loss: 2.9509 - val_accuracy: 0.0000e+00\n",
      "Epoch 49/100\n",
      "13/13 [==============================] - 0s 9ms/step - loss: 2.1404 - accuracy: 0.0000e+00 - val_loss: 2.9509 - val_accuracy: 0.0000e+00\n"
     ]
    }
   ],
   "source": [
    "history = model.fit(\n",
    "    x = xtrain,\n",
    "    y = ytrain,\n",
    "    epochs = 100,\n",
    "    validation_data = [xtest, ytest],\n",
    "    callbacks=[es]\n",
    ")"
   ]
  },
  {
   "cell_type": "code",
   "execution_count": 71,
   "metadata": {},
   "outputs": [
    {
     "data": {
      "text/html": [
       "<div>\n",
       "<style scoped>\n",
       "    .dataframe tbody tr th:only-of-type {\n",
       "        vertical-align: middle;\n",
       "    }\n",
       "\n",
       "    .dataframe tbody tr th {\n",
       "        vertical-align: top;\n",
       "    }\n",
       "\n",
       "    .dataframe thead th {\n",
       "        text-align: right;\n",
       "    }\n",
       "</style>\n",
       "<table border=\"1\" class=\"dataframe\">\n",
       "  <thead>\n",
       "    <tr style=\"text-align: right;\">\n",
       "      <th></th>\n",
       "      <th>loss</th>\n",
       "      <th>accuracy</th>\n",
       "      <th>val_loss</th>\n",
       "      <th>val_accuracy</th>\n",
       "      <th>epoch</th>\n",
       "    </tr>\n",
       "  </thead>\n",
       "  <tbody>\n",
       "    <tr>\n",
       "      <th>0</th>\n",
       "      <td>21.906525</td>\n",
       "      <td>0.0</td>\n",
       "      <td>22.254639</td>\n",
       "      <td>0.0</td>\n",
       "      <td>0</td>\n",
       "    </tr>\n",
       "    <tr>\n",
       "      <th>1</th>\n",
       "      <td>21.268753</td>\n",
       "      <td>0.0</td>\n",
       "      <td>21.501354</td>\n",
       "      <td>0.0</td>\n",
       "      <td>1</td>\n",
       "    </tr>\n",
       "    <tr>\n",
       "      <th>2</th>\n",
       "      <td>20.453852</td>\n",
       "      <td>0.0</td>\n",
       "      <td>20.537304</td>\n",
       "      <td>0.0</td>\n",
       "      <td>2</td>\n",
       "    </tr>\n",
       "    <tr>\n",
       "      <th>3</th>\n",
       "      <td>19.400623</td>\n",
       "      <td>0.0</td>\n",
       "      <td>19.335642</td>\n",
       "      <td>0.0</td>\n",
       "      <td>3</td>\n",
       "    </tr>\n",
       "    <tr>\n",
       "      <th>4</th>\n",
       "      <td>18.089235</td>\n",
       "      <td>0.0</td>\n",
       "      <td>17.898167</td>\n",
       "      <td>0.0</td>\n",
       "      <td>4</td>\n",
       "    </tr>\n",
       "  </tbody>\n",
       "</table>\n",
       "</div>"
      ],
      "text/plain": [
       "        loss  accuracy   val_loss  val_accuracy  epoch\n",
       "0  21.906525       0.0  22.254639           0.0      0\n",
       "1  21.268753       0.0  21.501354           0.0      1\n",
       "2  20.453852       0.0  20.537304           0.0      2\n",
       "3  19.400623       0.0  19.335642           0.0      3\n",
       "4  18.089235       0.0  17.898167           0.0      4"
      ]
     },
     "execution_count": 71,
     "metadata": {},
     "output_type": "execute_result"
    }
   ],
   "source": [
    "df = pd.DataFrame(history.history)\n",
    "df['epoch'] = history.epoch\n",
    "df.head()"
   ]
  },
  {
   "cell_type": "code",
   "execution_count": 72,
   "metadata": {},
   "outputs": [
    {
     "data": {
      "application/vnd.plotly.v1+json": {
       "config": {
        "plotlyServerURL": "https://plot.ly"
       },
       "data": [
        {
         "hovertemplate": "epoch=%{x}<br>loss=%{y}<extra></extra>",
         "legendgroup": "",
         "line": {
          "color": "#636efa",
          "dash": "solid"
         },
         "marker": {
          "symbol": "circle"
         },
         "mode": "lines",
         "name": "",
         "orientation": "v",
         "showlegend": false,
         "type": "scatter",
         "x": [
          0,
          1,
          2,
          3,
          4,
          5,
          6,
          7,
          8,
          9,
          10,
          11,
          12,
          13,
          14,
          15,
          16,
          17,
          18,
          19,
          20,
          21,
          22,
          23,
          24,
          25,
          26,
          27,
          28,
          29,
          30,
          31,
          32,
          33,
          34,
          35,
          36,
          37,
          38,
          39,
          40,
          41,
          42,
          43,
          44,
          45,
          46,
          47,
          48
         ],
         "xaxis": "x",
         "y": [
          21.906524658203125,
          21.268753051757812,
          20.4538516998291,
          19.400623321533203,
          18.089235305786133,
          16.5002384185791,
          14.645785331726074,
          12.491179466247559,
          10.174538612365723,
          8.278219223022461,
          7.351067066192627,
          6.613258361816406,
          5.861477851867676,
          5.1677141189575195,
          4.513387680053711,
          4.001396179199219,
          3.6403872966766357,
          3.4311718940734863,
          3.247152805328369,
          3.1301491260528564,
          3.0579516887664795,
          2.9671900272369385,
          2.9050347805023193,
          2.8490958213806152,
          2.763453960418701,
          2.7150604724884033,
          2.6695363521575928,
          2.618079423904419,
          2.561833381652832,
          2.536072015762329,
          2.485522508621216,
          2.455496072769165,
          2.435621500015259,
          2.4211580753326416,
          2.3818061351776123,
          2.3634209632873535,
          2.352914571762085,
          2.334871768951416,
          2.298880100250244,
          2.298090696334839,
          2.2630655765533447,
          2.246586799621582,
          2.228952646255493,
          2.2186245918273926,
          2.2272706031799316,
          2.1913647651672363,
          2.1709043979644775,
          2.153531551361084,
          2.140406847000122
         ],
         "yaxis": "y"
        }
       ],
       "layout": {
        "legend": {
         "tracegroupgap": 0
        },
        "margin": {
         "t": 60
        },
        "template": {
         "data": {
          "bar": [
           {
            "error_x": {
             "color": "#2a3f5f"
            },
            "error_y": {
             "color": "#2a3f5f"
            },
            "marker": {
             "line": {
              "color": "#E5ECF6",
              "width": 0.5
             },
             "pattern": {
              "fillmode": "overlay",
              "size": 10,
              "solidity": 0.2
             }
            },
            "type": "bar"
           }
          ],
          "barpolar": [
           {
            "marker": {
             "line": {
              "color": "#E5ECF6",
              "width": 0.5
             },
             "pattern": {
              "fillmode": "overlay",
              "size": 10,
              "solidity": 0.2
             }
            },
            "type": "barpolar"
           }
          ],
          "carpet": [
           {
            "aaxis": {
             "endlinecolor": "#2a3f5f",
             "gridcolor": "white",
             "linecolor": "white",
             "minorgridcolor": "white",
             "startlinecolor": "#2a3f5f"
            },
            "baxis": {
             "endlinecolor": "#2a3f5f",
             "gridcolor": "white",
             "linecolor": "white",
             "minorgridcolor": "white",
             "startlinecolor": "#2a3f5f"
            },
            "type": "carpet"
           }
          ],
          "choropleth": [
           {
            "colorbar": {
             "outlinewidth": 0,
             "ticks": ""
            },
            "type": "choropleth"
           }
          ],
          "contour": [
           {
            "colorbar": {
             "outlinewidth": 0,
             "ticks": ""
            },
            "colorscale": [
             [
              0,
              "#0d0887"
             ],
             [
              0.1111111111111111,
              "#46039f"
             ],
             [
              0.2222222222222222,
              "#7201a8"
             ],
             [
              0.3333333333333333,
              "#9c179e"
             ],
             [
              0.4444444444444444,
              "#bd3786"
             ],
             [
              0.5555555555555556,
              "#d8576b"
             ],
             [
              0.6666666666666666,
              "#ed7953"
             ],
             [
              0.7777777777777778,
              "#fb9f3a"
             ],
             [
              0.8888888888888888,
              "#fdca26"
             ],
             [
              1,
              "#f0f921"
             ]
            ],
            "type": "contour"
           }
          ],
          "contourcarpet": [
           {
            "colorbar": {
             "outlinewidth": 0,
             "ticks": ""
            },
            "type": "contourcarpet"
           }
          ],
          "heatmap": [
           {
            "colorbar": {
             "outlinewidth": 0,
             "ticks": ""
            },
            "colorscale": [
             [
              0,
              "#0d0887"
             ],
             [
              0.1111111111111111,
              "#46039f"
             ],
             [
              0.2222222222222222,
              "#7201a8"
             ],
             [
              0.3333333333333333,
              "#9c179e"
             ],
             [
              0.4444444444444444,
              "#bd3786"
             ],
             [
              0.5555555555555556,
              "#d8576b"
             ],
             [
              0.6666666666666666,
              "#ed7953"
             ],
             [
              0.7777777777777778,
              "#fb9f3a"
             ],
             [
              0.8888888888888888,
              "#fdca26"
             ],
             [
              1,
              "#f0f921"
             ]
            ],
            "type": "heatmap"
           }
          ],
          "heatmapgl": [
           {
            "colorbar": {
             "outlinewidth": 0,
             "ticks": ""
            },
            "colorscale": [
             [
              0,
              "#0d0887"
             ],
             [
              0.1111111111111111,
              "#46039f"
             ],
             [
              0.2222222222222222,
              "#7201a8"
             ],
             [
              0.3333333333333333,
              "#9c179e"
             ],
             [
              0.4444444444444444,
              "#bd3786"
             ],
             [
              0.5555555555555556,
              "#d8576b"
             ],
             [
              0.6666666666666666,
              "#ed7953"
             ],
             [
              0.7777777777777778,
              "#fb9f3a"
             ],
             [
              0.8888888888888888,
              "#fdca26"
             ],
             [
              1,
              "#f0f921"
             ]
            ],
            "type": "heatmapgl"
           }
          ],
          "histogram": [
           {
            "marker": {
             "pattern": {
              "fillmode": "overlay",
              "size": 10,
              "solidity": 0.2
             }
            },
            "type": "histogram"
           }
          ],
          "histogram2d": [
           {
            "colorbar": {
             "outlinewidth": 0,
             "ticks": ""
            },
            "colorscale": [
             [
              0,
              "#0d0887"
             ],
             [
              0.1111111111111111,
              "#46039f"
             ],
             [
              0.2222222222222222,
              "#7201a8"
             ],
             [
              0.3333333333333333,
              "#9c179e"
             ],
             [
              0.4444444444444444,
              "#bd3786"
             ],
             [
              0.5555555555555556,
              "#d8576b"
             ],
             [
              0.6666666666666666,
              "#ed7953"
             ],
             [
              0.7777777777777778,
              "#fb9f3a"
             ],
             [
              0.8888888888888888,
              "#fdca26"
             ],
             [
              1,
              "#f0f921"
             ]
            ],
            "type": "histogram2d"
           }
          ],
          "histogram2dcontour": [
           {
            "colorbar": {
             "outlinewidth": 0,
             "ticks": ""
            },
            "colorscale": [
             [
              0,
              "#0d0887"
             ],
             [
              0.1111111111111111,
              "#46039f"
             ],
             [
              0.2222222222222222,
              "#7201a8"
             ],
             [
              0.3333333333333333,
              "#9c179e"
             ],
             [
              0.4444444444444444,
              "#bd3786"
             ],
             [
              0.5555555555555556,
              "#d8576b"
             ],
             [
              0.6666666666666666,
              "#ed7953"
             ],
             [
              0.7777777777777778,
              "#fb9f3a"
             ],
             [
              0.8888888888888888,
              "#fdca26"
             ],
             [
              1,
              "#f0f921"
             ]
            ],
            "type": "histogram2dcontour"
           }
          ],
          "mesh3d": [
           {
            "colorbar": {
             "outlinewidth": 0,
             "ticks": ""
            },
            "type": "mesh3d"
           }
          ],
          "parcoords": [
           {
            "line": {
             "colorbar": {
              "outlinewidth": 0,
              "ticks": ""
             }
            },
            "type": "parcoords"
           }
          ],
          "pie": [
           {
            "automargin": true,
            "type": "pie"
           }
          ],
          "scatter": [
           {
            "marker": {
             "colorbar": {
              "outlinewidth": 0,
              "ticks": ""
             }
            },
            "type": "scatter"
           }
          ],
          "scatter3d": [
           {
            "line": {
             "colorbar": {
              "outlinewidth": 0,
              "ticks": ""
             }
            },
            "marker": {
             "colorbar": {
              "outlinewidth": 0,
              "ticks": ""
             }
            },
            "type": "scatter3d"
           }
          ],
          "scattercarpet": [
           {
            "marker": {
             "colorbar": {
              "outlinewidth": 0,
              "ticks": ""
             }
            },
            "type": "scattercarpet"
           }
          ],
          "scattergeo": [
           {
            "marker": {
             "colorbar": {
              "outlinewidth": 0,
              "ticks": ""
             }
            },
            "type": "scattergeo"
           }
          ],
          "scattergl": [
           {
            "marker": {
             "colorbar": {
              "outlinewidth": 0,
              "ticks": ""
             }
            },
            "type": "scattergl"
           }
          ],
          "scattermapbox": [
           {
            "marker": {
             "colorbar": {
              "outlinewidth": 0,
              "ticks": ""
             }
            },
            "type": "scattermapbox"
           }
          ],
          "scatterpolar": [
           {
            "marker": {
             "colorbar": {
              "outlinewidth": 0,
              "ticks": ""
             }
            },
            "type": "scatterpolar"
           }
          ],
          "scatterpolargl": [
           {
            "marker": {
             "colorbar": {
              "outlinewidth": 0,
              "ticks": ""
             }
            },
            "type": "scatterpolargl"
           }
          ],
          "scatterternary": [
           {
            "marker": {
             "colorbar": {
              "outlinewidth": 0,
              "ticks": ""
             }
            },
            "type": "scatterternary"
           }
          ],
          "surface": [
           {
            "colorbar": {
             "outlinewidth": 0,
             "ticks": ""
            },
            "colorscale": [
             [
              0,
              "#0d0887"
             ],
             [
              0.1111111111111111,
              "#46039f"
             ],
             [
              0.2222222222222222,
              "#7201a8"
             ],
             [
              0.3333333333333333,
              "#9c179e"
             ],
             [
              0.4444444444444444,
              "#bd3786"
             ],
             [
              0.5555555555555556,
              "#d8576b"
             ],
             [
              0.6666666666666666,
              "#ed7953"
             ],
             [
              0.7777777777777778,
              "#fb9f3a"
             ],
             [
              0.8888888888888888,
              "#fdca26"
             ],
             [
              1,
              "#f0f921"
             ]
            ],
            "type": "surface"
           }
          ],
          "table": [
           {
            "cells": {
             "fill": {
              "color": "#EBF0F8"
             },
             "line": {
              "color": "white"
             }
            },
            "header": {
             "fill": {
              "color": "#C8D4E3"
             },
             "line": {
              "color": "white"
             }
            },
            "type": "table"
           }
          ]
         },
         "layout": {
          "annotationdefaults": {
           "arrowcolor": "#2a3f5f",
           "arrowhead": 0,
           "arrowwidth": 1
          },
          "autotypenumbers": "strict",
          "coloraxis": {
           "colorbar": {
            "outlinewidth": 0,
            "ticks": ""
           }
          },
          "colorscale": {
           "diverging": [
            [
             0,
             "#8e0152"
            ],
            [
             0.1,
             "#c51b7d"
            ],
            [
             0.2,
             "#de77ae"
            ],
            [
             0.3,
             "#f1b6da"
            ],
            [
             0.4,
             "#fde0ef"
            ],
            [
             0.5,
             "#f7f7f7"
            ],
            [
             0.6,
             "#e6f5d0"
            ],
            [
             0.7,
             "#b8e186"
            ],
            [
             0.8,
             "#7fbc41"
            ],
            [
             0.9,
             "#4d9221"
            ],
            [
             1,
             "#276419"
            ]
           ],
           "sequential": [
            [
             0,
             "#0d0887"
            ],
            [
             0.1111111111111111,
             "#46039f"
            ],
            [
             0.2222222222222222,
             "#7201a8"
            ],
            [
             0.3333333333333333,
             "#9c179e"
            ],
            [
             0.4444444444444444,
             "#bd3786"
            ],
            [
             0.5555555555555556,
             "#d8576b"
            ],
            [
             0.6666666666666666,
             "#ed7953"
            ],
            [
             0.7777777777777778,
             "#fb9f3a"
            ],
            [
             0.8888888888888888,
             "#fdca26"
            ],
            [
             1,
             "#f0f921"
            ]
           ],
           "sequentialminus": [
            [
             0,
             "#0d0887"
            ],
            [
             0.1111111111111111,
             "#46039f"
            ],
            [
             0.2222222222222222,
             "#7201a8"
            ],
            [
             0.3333333333333333,
             "#9c179e"
            ],
            [
             0.4444444444444444,
             "#bd3786"
            ],
            [
             0.5555555555555556,
             "#d8576b"
            ],
            [
             0.6666666666666666,
             "#ed7953"
            ],
            [
             0.7777777777777778,
             "#fb9f3a"
            ],
            [
             0.8888888888888888,
             "#fdca26"
            ],
            [
             1,
             "#f0f921"
            ]
           ]
          },
          "colorway": [
           "#636efa",
           "#EF553B",
           "#00cc96",
           "#ab63fa",
           "#FFA15A",
           "#19d3f3",
           "#FF6692",
           "#B6E880",
           "#FF97FF",
           "#FECB52"
          ],
          "font": {
           "color": "#2a3f5f"
          },
          "geo": {
           "bgcolor": "white",
           "lakecolor": "white",
           "landcolor": "#E5ECF6",
           "showlakes": true,
           "showland": true,
           "subunitcolor": "white"
          },
          "hoverlabel": {
           "align": "left"
          },
          "hovermode": "closest",
          "mapbox": {
           "style": "light"
          },
          "paper_bgcolor": "white",
          "plot_bgcolor": "#E5ECF6",
          "polar": {
           "angularaxis": {
            "gridcolor": "white",
            "linecolor": "white",
            "ticks": ""
           },
           "bgcolor": "#E5ECF6",
           "radialaxis": {
            "gridcolor": "white",
            "linecolor": "white",
            "ticks": ""
           }
          },
          "scene": {
           "xaxis": {
            "backgroundcolor": "#E5ECF6",
            "gridcolor": "white",
            "gridwidth": 2,
            "linecolor": "white",
            "showbackground": true,
            "ticks": "",
            "zerolinecolor": "white"
           },
           "yaxis": {
            "backgroundcolor": "#E5ECF6",
            "gridcolor": "white",
            "gridwidth": 2,
            "linecolor": "white",
            "showbackground": true,
            "ticks": "",
            "zerolinecolor": "white"
           },
           "zaxis": {
            "backgroundcolor": "#E5ECF6",
            "gridcolor": "white",
            "gridwidth": 2,
            "linecolor": "white",
            "showbackground": true,
            "ticks": "",
            "zerolinecolor": "white"
           }
          },
          "shapedefaults": {
           "line": {
            "color": "#2a3f5f"
           }
          },
          "ternary": {
           "aaxis": {
            "gridcolor": "white",
            "linecolor": "white",
            "ticks": ""
           },
           "baxis": {
            "gridcolor": "white",
            "linecolor": "white",
            "ticks": ""
           },
           "bgcolor": "#E5ECF6",
           "caxis": {
            "gridcolor": "white",
            "linecolor": "white",
            "ticks": ""
           }
          },
          "title": {
           "x": 0.05
          },
          "xaxis": {
           "automargin": true,
           "gridcolor": "white",
           "linecolor": "white",
           "ticks": "",
           "title": {
            "standoff": 15
           },
           "zerolinecolor": "white",
           "zerolinewidth": 2
          },
          "yaxis": {
           "automargin": true,
           "gridcolor": "white",
           "linecolor": "white",
           "ticks": "",
           "title": {
            "standoff": 15
           },
           "zerolinecolor": "white",
           "zerolinewidth": 2
          }
         }
        },
        "xaxis": {
         "anchor": "y",
         "domain": [
          0,
          1
         ],
         "title": {
          "text": "epoch"
         }
        },
        "yaxis": {
         "anchor": "x",
         "domain": [
          0,
          1
         ],
         "title": {
          "text": "loss"
         }
        }
       }
      }
     },
     "metadata": {},
     "output_type": "display_data"
    }
   ],
   "source": [
    "fig = px.line(df, x='epoch',y='loss')\n",
    "fig.show()"
   ]
  },
  {
   "cell_type": "code",
   "execution_count": 73,
   "metadata": {},
   "outputs": [],
   "source": [
    "def plot_loss(df):\n",
    "  plt.plot(df['loss'], label='training loss')\n",
    "  plt.plot(df['val_loss'], label='validation loss')\n",
    "  plt.ylim([0,10])\n",
    "  plt.xlabel('epoch')\n",
    "  plt.ylabel('Error (MAE)')\n",
    "  plt.legend()\n",
    "  plt.grid(True)"
   ]
  },
  {
   "cell_type": "code",
   "execution_count": 74,
   "metadata": {},
   "outputs": [
    {
     "data": {
      "image/png": "[encoded data removed]",
      "text/plain": [
       "<Figure size 432x288 with 1 Axes>"
      ]
     },
     "metadata": {
      "needs_background": "light"
     },
     "output_type": "display_data"
    }
   ],
   "source": [
    "plot_loss(df)"
   ]
  },
  {
   "cell_type": "markdown",
   "metadata": {},
   "source": [
    "save model"
   ]
  },
  {
   "cell_type": "code",
   "execution_count": 75,
   "metadata": {},
   "outputs": [
    {
     "name": "stdout",
     "output_type": "stream",
     "text": [
      "INFO:tensorflow:Assets written to: boston_house_pricing\\assets\n"
     ]
    }
   ],
   "source": [
    "model.save('boston_house_pricing')"
   ]
  },
  {
   "cell_type": "code",
   "execution_count": 76,
   "metadata": {},
   "outputs": [
    {
     "name": "stdout",
     "output_type": "stream",
     "text": [
      "INFO:tensorflow:Assets written to: boston.hs\\assets\n"
     ]
    }
   ],
   "source": [
    "model.save('boston.hs', save_format='hs')"
   ]
  },
  {
   "cell_type": "markdown",
   "metadata": {},
   "source": [
    "load model"
   ]
  },
  {
   "cell_type": "code",
   "execution_count": 77,
   "metadata": {},
   "outputs": [
    {
     "data": {
      "text/plain": [
       "<keras.engine.sequential.Sequential at 0xf6117f7130>"
      ]
     },
     "execution_count": 77,
     "metadata": {},
     "output_type": "execute_result"
    }
   ],
   "source": [
    "tf.keras.models.load_model('boston_house_pricing')"
   ]
  },
  {
   "cell_type": "markdown",
   "metadata": {},
   "source": [
    "prediction"
   ]
  },
  {
   "cell_type": "code",
   "execution_count": 78,
   "metadata": {},
   "outputs": [],
   "source": [
    "ypred = model.predict(xtest)"
   ]
  },
  {
   "cell_type": "code",
   "execution_count": 79,
   "metadata": {},
   "outputs": [
    {
     "data": {
      "text/plain": [
       "{'whiskers': [<matplotlib.lines.Line2D at 0xf616519310>,\n",
       "  <matplotlib.lines.Line2D at 0xf6165195e0>],\n",
       " 'caps': [<matplotlib.lines.Line2D at 0xf616519970>,\n",
       "  <matplotlib.lines.Line2D at 0xf616519d00>],\n",
       " 'boxes': [<matplotlib.lines.Line2D at 0xf616509e80>],\n",
       " 'medians': [<matplotlib.lines.Line2D at 0xf6165240d0>],\n",
       " 'fliers': [<matplotlib.lines.Line2D at 0xf616524460>],\n",
       " 'means': []}"
      ]
     },
     "execution_count": 79,
     "metadata": {},
     "output_type": "execute_result"
    },
    {
     "data": {
      "image/png": "[encoded data removed]",
      "text/plain": [
       "<Figure size 432x288 with 1 Axes>"
      ]
     },
     "metadata": {
      "needs_background": "light"
     },
     "output_type": "display_data"
    }
   ],
   "source": [
    "plt."
   ]
  },
  {
   "cell_type": "code",
   "execution_count": null,
   "metadata": {},
   "outputs": [],
   "source": []
  }
 ],
 "metadata": {
  "interpreter": {
   "hash": "d62006d1f3422635846181a997a61e8ec3049f797e5d7dfe0cd1bb84092b7c19"
  },
  "kernelspec": {
   "display_name": "Python 3.9.7 64-bit",
   "language": "python",
   "name": "python3"
  },
  "language_info": {
   "codemirror_mode": {
    "name": "ipython",
    "version": 3
   },
   "file_extension": ".py",
   "mimetype": "text/x-python",
   "name": "python",
   "nbconvert_exporter": "python",
   "pygments_lexer": "ipython3",
   "version": "3.9.7"
  },
  "orig_nbformat": 4
 },
 "nbformat": 4,
 "nbformat_minor": 2
}
